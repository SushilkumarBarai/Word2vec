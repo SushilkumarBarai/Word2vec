{
 "cells": [
  {
   "cell_type": "code",
   "execution_count": 1,
   "id": "078d58fe",
   "metadata": {},
   "outputs": [],
   "source": [
    "from sklearn.feature_extraction.text import TfidfVectorizer"
   ]
  },
  {
   "cell_type": "code",
   "execution_count": 2,
   "id": "0f30b9e6",
   "metadata": {},
   "outputs": [],
   "source": [
    "tfid = TfidfVectorizer()"
   ]
  },
  {
   "cell_type": "code",
   "execution_count": 3,
   "id": "5e9620b3",
   "metadata": {},
   "outputs": [],
   "source": [
    "doc_1='This is the first document.'\n",
    "doc_2='This document is the second document.'"
   ]
  },
  {
   "cell_type": "code",
   "execution_count": 4,
   "id": "836e2462",
   "metadata": {},
   "outputs": [],
   "source": [
    "response = tfid.fit_transform([doc_1,doc_2])"
   ]
  },
  {
   "cell_type": "code",
   "execution_count": 5,
   "id": "ac2fca92",
   "metadata": {},
   "outputs": [
    {
     "name": "stdout",
     "output_type": "stream",
     "text": [
      "6\n"
     ]
    }
   ],
   "source": [
    "print(len(tfid.vocabulary_))"
   ]
  },
  {
   "cell_type": "code",
   "execution_count": 6,
   "id": "b87c38ff",
   "metadata": {},
   "outputs": [
    {
     "data": {
      "text/plain": [
       "{'this': 5, 'is': 2, 'the': 4, 'first': 1, 'document': 0, 'second': 3}"
      ]
     },
     "execution_count": 6,
     "metadata": {},
     "output_type": "execute_result"
    }
   ],
   "source": [
    "tfid.vocabulary_"
   ]
  },
  {
   "cell_type": "code",
   "execution_count": 7,
   "id": "8db08370",
   "metadata": {},
   "outputs": [
    {
     "name": "stdout",
     "output_type": "stream",
     "text": [
      "  (0, 0)\t0.40909010368335985\n",
      "  (0, 1)\t0.5749618667993135\n",
      "  (0, 4)\t0.40909010368335985\n",
      "  (0, 2)\t0.40909010368335985\n",
      "  (0, 5)\t0.40909010368335985\n",
      "  (1, 3)\t0.4691317250431934\n",
      "  (1, 0)\t0.6675821723880022\n",
      "  (1, 4)\t0.3337910861940011\n",
      "  (1, 2)\t0.3337910861940011\n",
      "  (1, 5)\t0.3337910861940011\n"
     ]
    }
   ],
   "source": [
    "print(response)"
   ]
  },
  {
   "cell_type": "code",
   "execution_count": 9,
   "id": "91105223",
   "metadata": {},
   "outputs": [
    {
     "data": {
      "text/plain": [
       "['document', 'first', 'is', 'second', 'the', 'this']"
      ]
     },
     "execution_count": 9,
     "metadata": {},
     "output_type": "execute_result"
    }
   ],
   "source": [
    "feature_names=tfid.get_feature_names()\n",
    "feature_names"
   ]
  },
  {
   "cell_type": "code",
   "execution_count": 10,
   "id": "8a104aa4",
   "metadata": {},
   "outputs": [
    {
     "data": {
      "text/plain": [
       "(array([0, 0, 0, 0, 0, 1, 1, 1, 1, 1], dtype=int32),\n",
       " array([0, 1, 4, 2, 5, 3, 0, 4, 2, 5], dtype=int32))"
      ]
     },
     "execution_count": 10,
     "metadata": {},
     "output_type": "execute_result"
    }
   ],
   "source": [
    "response.nonzero()"
   ]
  },
  {
   "cell_type": "code",
   "execution_count": 12,
   "id": "9a06bbf5",
   "metadata": {},
   "outputs": [
    {
     "name": "stdout",
     "output_type": "stream",
     "text": [
      "document - 0.40909010368335985\n",
      "first - 0.5749618667993135\n",
      "the - 0.40909010368335985\n",
      "is - 0.40909010368335985\n",
      "this - 0.40909010368335985\n",
      "second - 0.0\n",
      "document - 0.40909010368335985\n",
      "the - 0.40909010368335985\n",
      "is - 0.40909010368335985\n",
      "this - 0.40909010368335985\n"
     ]
    }
   ],
   "source": [
    "for cols in response.nonzero()[1]:\n",
    "    print(feature_names[cols], '-',response[0,cols])"
   ]
  },
  {
   "cell_type": "code",
   "execution_count": null,
   "id": "5697989f",
   "metadata": {},
   "outputs": [],
   "source": []
  }
 ],
 "metadata": {
  "kernelspec": {
   "display_name": "Python 3 (ipykernel)",
   "language": "python",
   "name": "python3"
  },
  "language_info": {
   "codemirror_mode": {
    "name": "ipython",
    "version": 3
   },
   "file_extension": ".py",
   "mimetype": "text/x-python",
   "name": "python",
   "nbconvert_exporter": "python",
   "pygments_lexer": "ipython3",
   "version": "3.9.7"
  }
 },
 "nbformat": 4,
 "nbformat_minor": 5
}
