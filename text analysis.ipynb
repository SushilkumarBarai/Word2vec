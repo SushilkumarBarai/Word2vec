{
 "cells": [
  {
   "cell_type": "code",
   "execution_count": 1,
   "id": "737f85dc",
   "metadata": {},
   "outputs": [],
   "source": [
    "import pandas as pd\n",
    "import numpy as np\n",
    "import matplotlib.pyplot as plt\n",
    "%matplotlib inline\n",
    "import seaborn as sns\n",
    "\n",
    "import string\n",
    "import re\n",
    "from nltk.corpus import stopwords\n",
    "from nltk.stem import PorterStemmer\n",
    "from nltk.tokenize import sent_tokenize, word_tokenize\n",
    "\n",
    "from sklearn.feature_extraction.text import CountVectorizer\n",
    "from sklearn.feature_extraction.text import TfidfTransformer\n",
    "from sklearn.model_selection import train_test_split\n",
    "from sklearn.pipeline import Pipeline\n",
    "\n",
    "from sklearn.linear_model import LogisticRegression\n",
    "from sklearn.naive_bayes import MultinomialNB\n",
    "from sklearn.ensemble import RandomForestClassifier\n",
    "from sklearn.svm import LinearSVC\n",
    "from sklearn.ensemble import GradientBoostingClassifier\n",
    "from sklearn.model_selection import GridSearchCV\n",
    "\n",
    "from sklearn.metrics import accuracy_score, classification_report"
   ]
  },
  {
   "cell_type": "code",
   "execution_count": 2,
   "id": "dbcf354b",
   "metadata": {},
   "outputs": [
    {
     "data": {
      "text/html": [
       "<div>\n",
       "<style scoped>\n",
       "    .dataframe tbody tr th:only-of-type {\n",
       "        vertical-align: middle;\n",
       "    }\n",
       "\n",
       "    .dataframe tbody tr th {\n",
       "        vertical-align: top;\n",
       "    }\n",
       "\n",
       "    .dataframe thead th {\n",
       "        text-align: right;\n",
       "    }\n",
       "</style>\n",
       "<table border=\"1\" class=\"dataframe\">\n",
       "  <thead>\n",
       "    <tr style=\"text-align: right;\">\n",
       "      <th></th>\n",
       "      <th>brand</th>\n",
       "      <th>name</th>\n",
       "      <th>price</th>\n",
       "      <th>price_sign</th>\n",
       "      <th>currency</th>\n",
       "      <th>image_link</th>\n",
       "      <th>product_link</th>\n",
       "      <th>website_link</th>\n",
       "      <th>description</th>\n",
       "      <th>rating</th>\n",
       "      <th>...</th>\n",
       "      <th>product_colors/29/hex_value</th>\n",
       "      <th>product_colors/29/colour_name</th>\n",
       "      <th>product_colors/30/hex_value</th>\n",
       "      <th>product_colors/30/colour_name</th>\n",
       "      <th>product_colors/31/hex_value</th>\n",
       "      <th>product_colors/31/colour_name</th>\n",
       "      <th>product_colors/32/hex_value</th>\n",
       "      <th>product_colors/32/colour_name</th>\n",
       "      <th>product_colors/33/hex_value</th>\n",
       "      <th>product_colors/33/colour_name</th>\n",
       "    </tr>\n",
       "    <tr>\n",
       "      <th>id</th>\n",
       "      <th></th>\n",
       "      <th></th>\n",
       "      <th></th>\n",
       "      <th></th>\n",
       "      <th></th>\n",
       "      <th></th>\n",
       "      <th></th>\n",
       "      <th></th>\n",
       "      <th></th>\n",
       "      <th></th>\n",
       "      <th></th>\n",
       "      <th></th>\n",
       "      <th></th>\n",
       "      <th></th>\n",
       "      <th></th>\n",
       "      <th></th>\n",
       "      <th></th>\n",
       "      <th></th>\n",
       "      <th></th>\n",
       "      <th></th>\n",
       "      <th></th>\n",
       "    </tr>\n",
       "  </thead>\n",
       "  <tbody>\n",
       "    <tr>\n",
       "      <th>1048</th>\n",
       "      <td>colourpop</td>\n",
       "      <td>Lippie Pencil</td>\n",
       "      <td>5.0</td>\n",
       "      <td>$</td>\n",
       "      <td>CAD</td>\n",
       "      <td>https://cdn.shopify.com/s/files/1/1338/0845/co...</td>\n",
       "      <td>https://colourpop.com/collections/lippie-pencil</td>\n",
       "      <td>https://colourpop.com</td>\n",
       "      <td>Lippie Pencil A long-wearing and high-intensit...</td>\n",
       "      <td>NaN</td>\n",
       "      <td>...</td>\n",
       "      <td>#B5716A</td>\n",
       "      <td>Brink Pencil</td>\n",
       "      <td>#B0516F</td>\n",
       "      <td>I Heart This Pencil</td>\n",
       "      <td>#542328</td>\n",
       "      <td>Ellarie Pencil</td>\n",
       "      <td>#DFAC9B</td>\n",
       "      <td>Toy Pencil</td>\n",
       "      <td>#AB7164</td>\n",
       "      <td>BFF Pencil 2</td>\n",
       "    </tr>\n",
       "    <tr>\n",
       "      <th>1047</th>\n",
       "      <td>colourpop</td>\n",
       "      <td>Blotted Lip</td>\n",
       "      <td>5.5</td>\n",
       "      <td>$</td>\n",
       "      <td>CAD</td>\n",
       "      <td>https://cdn.shopify.com/s/files/1/1338/0845/pr...</td>\n",
       "      <td>https://colourpop.com/collections/lippie-stix?...</td>\n",
       "      <td>https://colourpop.com</td>\n",
       "      <td>Blotted Lip Sheer matte lipstick that creates ...</td>\n",
       "      <td>NaN</td>\n",
       "      <td>...</td>\n",
       "      <td>NaN</td>\n",
       "      <td>NaN</td>\n",
       "      <td>NaN</td>\n",
       "      <td>NaN</td>\n",
       "      <td>NaN</td>\n",
       "      <td>NaN</td>\n",
       "      <td>NaN</td>\n",
       "      <td>NaN</td>\n",
       "      <td>NaN</td>\n",
       "      <td>NaN</td>\n",
       "    </tr>\n",
       "    <tr>\n",
       "      <th>1046</th>\n",
       "      <td>colourpop</td>\n",
       "      <td>Lippie Stix</td>\n",
       "      <td>5.5</td>\n",
       "      <td>$</td>\n",
       "      <td>CAD</td>\n",
       "      <td>https://cdn.shopify.com/s/files/1/1338/0845/co...</td>\n",
       "      <td>https://colourpop.com/collections/lippie-stix</td>\n",
       "      <td>https://colourpop.com</td>\n",
       "      <td>Lippie Stix Formula contains Vitamin E, Mango,...</td>\n",
       "      <td>NaN</td>\n",
       "      <td>...</td>\n",
       "      <td>#8F6557</td>\n",
       "      <td>Tootsi</td>\n",
       "      <td>#AF7564</td>\n",
       "      <td>Cookie</td>\n",
       "      <td>#AA4E79</td>\n",
       "      <td>Persuasion</td>\n",
       "      <td>#442A26</td>\n",
       "      <td>Pitch</td>\n",
       "      <td>#5C4761</td>\n",
       "      <td>Leather</td>\n",
       "    </tr>\n",
       "    <tr>\n",
       "      <th>1045</th>\n",
       "      <td>colourpop</td>\n",
       "      <td>No Filter Foundation</td>\n",
       "      <td>12.0</td>\n",
       "      <td>$</td>\n",
       "      <td>CAD</td>\n",
       "      <td>https://cdn.shopify.com/s/files/1/1338/0845/pr...</td>\n",
       "      <td>https://colourpop.com/products/no-filter-matte...</td>\n",
       "      <td>https://colourpop.com/products/no-filter-matte...</td>\n",
       "      <td>Developed for the Selfie Age, our buildable fu...</td>\n",
       "      <td>NaN</td>\n",
       "      <td>...</td>\n",
       "      <td>#C29879</td>\n",
       "      <td>Dark 155</td>\n",
       "      <td>#B99179</td>\n",
       "      <td>Dark 160</td>\n",
       "      <td>#C39981</td>\n",
       "      <td>Dark 165</td>\n",
       "      <td>#B99078</td>\n",
       "      <td>Dark 170</td>\n",
       "      <td>#B6927D</td>\n",
       "      <td>Dark 175</td>\n",
       "    </tr>\n",
       "    <tr>\n",
       "      <th>1044</th>\n",
       "      <td>boosh</td>\n",
       "      <td>Lipstick</td>\n",
       "      <td>26.0</td>\n",
       "      <td>$</td>\n",
       "      <td>CAD</td>\n",
       "      <td>https://cdn.shopify.com/s/files/1/1016/3243/pr...</td>\n",
       "      <td>https://www.boosh.ca/collections/all</td>\n",
       "      <td>https://www.boosh.ca/</td>\n",
       "      <td>All of our products are free from lead and hea...</td>\n",
       "      <td>NaN</td>\n",
       "      <td>...</td>\n",
       "      <td>NaN</td>\n",
       "      <td>NaN</td>\n",
       "      <td>NaN</td>\n",
       "      <td>NaN</td>\n",
       "      <td>NaN</td>\n",
       "      <td>NaN</td>\n",
       "      <td>NaN</td>\n",
       "      <td>NaN</td>\n",
       "      <td>NaN</td>\n",
       "      <td>NaN</td>\n",
       "    </tr>\n",
       "  </tbody>\n",
       "</table>\n",
       "<p>5 rows × 86 columns</p>\n",
       "</div>"
      ],
      "text/plain": [
       "          brand                  name  price price_sign currency  \\\n",
       "id                                                                 \n",
       "1048  colourpop         Lippie Pencil    5.0          $      CAD   \n",
       "1047  colourpop           Blotted Lip    5.5          $      CAD   \n",
       "1046  colourpop           Lippie Stix    5.5          $      CAD   \n",
       "1045  colourpop  No Filter Foundation   12.0          $      CAD   \n",
       "1044      boosh              Lipstick   26.0          $      CAD   \n",
       "\n",
       "                                             image_link  \\\n",
       "id                                                        \n",
       "1048  https://cdn.shopify.com/s/files/1/1338/0845/co...   \n",
       "1047  https://cdn.shopify.com/s/files/1/1338/0845/pr...   \n",
       "1046  https://cdn.shopify.com/s/files/1/1338/0845/co...   \n",
       "1045  https://cdn.shopify.com/s/files/1/1338/0845/pr...   \n",
       "1044  https://cdn.shopify.com/s/files/1/1016/3243/pr...   \n",
       "\n",
       "                                           product_link  \\\n",
       "id                                                        \n",
       "1048    https://colourpop.com/collections/lippie-pencil   \n",
       "1047  https://colourpop.com/collections/lippie-stix?...   \n",
       "1046      https://colourpop.com/collections/lippie-stix   \n",
       "1045  https://colourpop.com/products/no-filter-matte...   \n",
       "1044               https://www.boosh.ca/collections/all   \n",
       "\n",
       "                                           website_link  \\\n",
       "id                                                        \n",
       "1048                              https://colourpop.com   \n",
       "1047                              https://colourpop.com   \n",
       "1046                              https://colourpop.com   \n",
       "1045  https://colourpop.com/products/no-filter-matte...   \n",
       "1044                              https://www.boosh.ca/   \n",
       "\n",
       "                                            description  rating  ...  \\\n",
       "id                                                               ...   \n",
       "1048  Lippie Pencil A long-wearing and high-intensit...     NaN  ...   \n",
       "1047  Blotted Lip Sheer matte lipstick that creates ...     NaN  ...   \n",
       "1046  Lippie Stix Formula contains Vitamin E, Mango,...     NaN  ...   \n",
       "1045  Developed for the Selfie Age, our buildable fu...     NaN  ...   \n",
       "1044  All of our products are free from lead and hea...     NaN  ...   \n",
       "\n",
       "     product_colors/29/hex_value product_colors/29/colour_name  \\\n",
       "id                                                               \n",
       "1048                     #B5716A                  Brink Pencil   \n",
       "1047                         NaN                           NaN   \n",
       "1046                     #8F6557                        Tootsi   \n",
       "1045                     #C29879                      Dark 155   \n",
       "1044                         NaN                           NaN   \n",
       "\n",
       "     product_colors/30/hex_value product_colors/30/colour_name  \\\n",
       "id                                                               \n",
       "1048                     #B0516F           I Heart This Pencil   \n",
       "1047                         NaN                           NaN   \n",
       "1046                     #AF7564                        Cookie   \n",
       "1045                     #B99179                      Dark 160   \n",
       "1044                         NaN                           NaN   \n",
       "\n",
       "     product_colors/31/hex_value product_colors/31/colour_name  \\\n",
       "id                                                               \n",
       "1048                     #542328                Ellarie Pencil   \n",
       "1047                         NaN                           NaN   \n",
       "1046                     #AA4E79                    Persuasion   \n",
       "1045                     #C39981                      Dark 165   \n",
       "1044                         NaN                           NaN   \n",
       "\n",
       "     product_colors/32/hex_value product_colors/32/colour_name  \\\n",
       "id                                                               \n",
       "1048                     #DFAC9B                    Toy Pencil   \n",
       "1047                         NaN                           NaN   \n",
       "1046                     #442A26                         Pitch   \n",
       "1045                     #B99078                      Dark 170   \n",
       "1044                         NaN                           NaN   \n",
       "\n",
       "     product_colors/33/hex_value product_colors/33/colour_name  \n",
       "id                                                              \n",
       "1048                     #AB7164                  BFF Pencil 2  \n",
       "1047                         NaN                           NaN  \n",
       "1046                     #5C4761                       Leather  \n",
       "1045                     #B6927D                      Dark 175  \n",
       "1044                         NaN                           NaN  \n",
       "\n",
       "[5 rows x 86 columns]"
      ]
     },
     "execution_count": 2,
     "metadata": {},
     "output_type": "execute_result"
    }
   ],
   "source": [
    "df = pd.read_csv('products_final.csv', header=0,index_col=0)\n",
    "df.head()"
   ]
  },
  {
   "cell_type": "code",
   "execution_count": 3,
   "id": "bdc5c71c",
   "metadata": {},
   "outputs": [
    {
     "name": "stdout",
     "output_type": "stream",
     "text": [
      "<class 'pandas.core.frame.DataFrame'>\n",
      "Int64Index: 931 entries, 1048 to 1\n",
      "Data columns (total 86 columns):\n",
      " #   Column                         Non-Null Count  Dtype  \n",
      "---  ------                         --------------  -----  \n",
      " 0   brand                          919 non-null    object \n",
      " 1   name                           931 non-null    object \n",
      " 2   price                          917 non-null    float64\n",
      " 3   price_sign                     368 non-null    object \n",
      " 4   currency                       368 non-null    object \n",
      " 5   image_link                     931 non-null    object \n",
      " 6   product_link                   931 non-null    object \n",
      " 7   website_link                   931 non-null    object \n",
      " 8   description                    906 non-null    object \n",
      " 9   rating                         340 non-null    float64\n",
      " 10  category                       507 non-null    object \n",
      " 11  product_type                   931 non-null    object \n",
      " 12  tag_list/0/cruelty free        4 non-null      object \n",
      " 13  tag_list/1/Vegan               27 non-null     object \n",
      " 14  created_at                     931 non-null    object \n",
      " 15  updated_at                     931 non-null    object \n",
      " 16  product_api_url                931 non-null    object \n",
      " 17  api_featured_image             931 non-null    object \n",
      " 18  product_colors/0/hex_value     692 non-null    object \n",
      " 19  product_colors/0/colour_name   665 non-null    object \n",
      " 20  product_colors/1/hex_value     606 non-null    object \n",
      " 21  product_colors/1/colour_name   594 non-null    object \n",
      " 22  product_colors/2/hex_value     517 non-null    object \n",
      " 23  product_colors/2/colour_name   509 non-null    object \n",
      " 24  product_colors/3/hex_value     416 non-null    object \n",
      " 25  product_colors/3/colour_name   413 non-null    object \n",
      " 26  product_colors/4/hex_value     346 non-null    object \n",
      " 27  product_colors/4/colour_name   346 non-null    object \n",
      " 28  product_colors/5/hex_value     299 non-null    object \n",
      " 29  product_colors/5/colour_name   299 non-null    object \n",
      " 30  product_colors/6/hex_value     241 non-null    object \n",
      " 31  product_colors/6/colour_name   241 non-null    object \n",
      " 32  product_colors/7/hex_value     216 non-null    object \n",
      " 33  product_colors/7/colour_name   216 non-null    object \n",
      " 34  product_colors/8/hex_value     173 non-null    object \n",
      " 35  product_colors/8/colour_name   173 non-null    object \n",
      " 36  product_colors/9/hex_value     161 non-null    object \n",
      " 37  product_colors/9/colour_name   161 non-null    object \n",
      " 38  product_colors/10/hex_value    145 non-null    object \n",
      " 39  product_colors/10/colour_name  145 non-null    object \n",
      " 40  product_colors/11/hex_value    139 non-null    object \n",
      " 41  product_colors/11/colour_name  139 non-null    object \n",
      " 42  product_colors/12/hex_value    117 non-null    object \n",
      " 43  product_colors/12/colour_name  117 non-null    object \n",
      " 44  product_colors/13/hex_value    108 non-null    object \n",
      " 45  product_colors/13/colour_name  108 non-null    object \n",
      " 46  product_colors/14/hex_value    97 non-null     object \n",
      " 47  product_colors/14/colour_name  97 non-null     object \n",
      " 48  product_colors/15/hex_value    87 non-null     object \n",
      " 49  product_colors/15/colour_name  87 non-null     object \n",
      " 50  product_colors/16/hex_value    78 non-null     object \n",
      " 51  product_colors/16/colour_name  78 non-null     object \n",
      " 52  product_colors/17/hex_value    76 non-null     object \n",
      " 53  product_colors/17/colour_name  76 non-null     object \n",
      " 54  product_colors/18/hex_value    73 non-null     object \n",
      " 55  product_colors/18/colour_name  73 non-null     object \n",
      " 56  product_colors/19/hex_value    68 non-null     object \n",
      " 57  product_colors/19/colour_name  68 non-null     object \n",
      " 58  product_colors/20/hex_value    53 non-null     object \n",
      " 59  product_colors/20/colour_name  53 non-null     object \n",
      " 60  product_colors/21/hex_value    48 non-null     object \n",
      " 61  product_colors/21/colour_name  48 non-null     object \n",
      " 62  product_colors/22/hex_value    44 non-null     object \n",
      " 63  product_colors/22/colour_name  44 non-null     object \n",
      " 64  product_colors/23/hex_value    41 non-null     object \n",
      " 65  product_colors/23/colour_name  41 non-null     object \n",
      " 66  product_colors/24/hex_value    33 non-null     object \n",
      " 67  product_colors/24/colour_name  33 non-null     object \n",
      " 68  product_colors/25/hex_value    32 non-null     object \n",
      " 69  product_colors/25/colour_name  32 non-null     object \n",
      " 70  product_colors/26/hex_value    31 non-null     object \n",
      " 71  product_colors/26/colour_name  31 non-null     object \n",
      " 72  product_colors/27/hex_value    30 non-null     object \n",
      " 73  product_colors/27/colour_name  30 non-null     object \n",
      " 74  product_colors/28/hex_value    28 non-null     object \n",
      " 75  product_colors/28/colour_name  28 non-null     object \n",
      " 76  product_colors/29/hex_value    25 non-null     object \n",
      " 77  product_colors/29/colour_name  25 non-null     object \n",
      " 78  product_colors/30/hex_value    20 non-null     object \n",
      " 79  product_colors/30/colour_name  20 non-null     object \n",
      " 80  product_colors/31/hex_value    18 non-null     object \n",
      " 81  product_colors/31/colour_name  18 non-null     object \n",
      " 82  product_colors/32/hex_value    16 non-null     object \n",
      " 83  product_colors/32/colour_name  16 non-null     object \n",
      " 84  product_colors/33/hex_value    16 non-null     object \n",
      " 85  product_colors/33/colour_name  16 non-null     object \n",
      "dtypes: float64(2), object(84)\n",
      "memory usage: 632.8+ KB\n"
     ]
    }
   ],
   "source": [
    "df.info()"
   ]
  },
  {
   "cell_type": "markdown",
   "id": "409fade5",
   "metadata": {},
   "source": [
    "# Data Cleaning\n",
    "#For our analysis we use only two variables: product_type and description."
   ]
  },
  {
   "cell_type": "code",
   "execution_count": 4,
   "id": "c108a654",
   "metadata": {},
   "outputs": [
    {
     "data": {
      "text/html": [
       "<div>\n",
       "<style scoped>\n",
       "    .dataframe tbody tr th:only-of-type {\n",
       "        vertical-align: middle;\n",
       "    }\n",
       "\n",
       "    .dataframe tbody tr th {\n",
       "        vertical-align: top;\n",
       "    }\n",
       "\n",
       "    .dataframe thead th {\n",
       "        text-align: right;\n",
       "    }\n",
       "</style>\n",
       "<table border=\"1\" class=\"dataframe\">\n",
       "  <thead>\n",
       "    <tr style=\"text-align: right;\">\n",
       "      <th></th>\n",
       "      <th>product_type</th>\n",
       "      <th>description</th>\n",
       "    </tr>\n",
       "    <tr>\n",
       "      <th>id</th>\n",
       "      <th></th>\n",
       "      <th></th>\n",
       "    </tr>\n",
       "  </thead>\n",
       "  <tbody>\n",
       "    <tr>\n",
       "      <th>1048</th>\n",
       "      <td>lip_liner</td>\n",
       "      <td>Lippie Pencil A long-wearing and high-intensit...</td>\n",
       "    </tr>\n",
       "    <tr>\n",
       "      <th>1047</th>\n",
       "      <td>lipstick</td>\n",
       "      <td>Blotted Lip Sheer matte lipstick that creates ...</td>\n",
       "    </tr>\n",
       "    <tr>\n",
       "      <th>1046</th>\n",
       "      <td>lipstick</td>\n",
       "      <td>Lippie Stix Formula contains Vitamin E, Mango,...</td>\n",
       "    </tr>\n",
       "    <tr>\n",
       "      <th>1045</th>\n",
       "      <td>foundation</td>\n",
       "      <td>Developed for the Selfie Age, our buildable fu...</td>\n",
       "    </tr>\n",
       "    <tr>\n",
       "      <th>1044</th>\n",
       "      <td>lipstick</td>\n",
       "      <td>All of our products are free from lead and hea...</td>\n",
       "    </tr>\n",
       "  </tbody>\n",
       "</table>\n",
       "</div>"
      ],
      "text/plain": [
       "     product_type                                        description\n",
       "id                                                                  \n",
       "1048    lip_liner  Lippie Pencil A long-wearing and high-intensit...\n",
       "1047     lipstick  Blotted Lip Sheer matte lipstick that creates ...\n",
       "1046     lipstick  Lippie Stix Formula contains Vitamin E, Mango,...\n",
       "1045   foundation  Developed for the Selfie Age, our buildable fu...\n",
       "1044     lipstick  All of our products are free from lead and hea..."
      ]
     },
     "execution_count": 4,
     "metadata": {},
     "output_type": "execute_result"
    }
   ],
   "source": [
    "text_df = df[['product_type', 'description']]\n",
    "text_df.head()"
   ]
  },
  {
   "cell_type": "code",
   "execution_count": 5,
   "id": "a9a36e9f",
   "metadata": {},
   "outputs": [
    {
     "data": {
      "text/plain": [
       "(931, 2)"
      ]
     },
     "execution_count": 5,
     "metadata": {},
     "output_type": "execute_result"
    }
   ],
   "source": [
    "#shape of data:\n",
    "text_df.shape"
   ]
  },
  {
   "cell_type": "code",
   "execution_count": 6,
   "id": "3dc2f443",
   "metadata": {},
   "outputs": [
    {
     "name": "stdout",
     "output_type": "stream",
     "text": [
      "<class 'pandas.core.frame.DataFrame'>\n",
      "Int64Index: 931 entries, 1048 to 1\n",
      "Data columns (total 2 columns):\n",
      " #   Column        Non-Null Count  Dtype \n",
      "---  ------        --------------  ----- \n",
      " 0   product_type  931 non-null    object\n",
      " 1   description   906 non-null    object\n",
      "dtypes: object(2)\n",
      "memory usage: 21.8+ KB\n"
     ]
    }
   ],
   "source": [
    "text_df.info()"
   ]
  },
  {
   "cell_type": "code",
   "execution_count": 7,
   "id": "a39be87c",
   "metadata": {},
   "outputs": [
    {
     "data": {
      "text/plain": [
       "product_type     0\n",
       "description     25\n",
       "dtype: int64"
      ]
     },
     "execution_count": 7,
     "metadata": {},
     "output_type": "execute_result"
    }
   ],
   "source": [
    "#missing values:\n",
    "text_df.isnull().sum()"
   ]
  },
  {
   "cell_type": "code",
   "execution_count": 8,
   "id": "6dc85ea2",
   "metadata": {},
   "outputs": [
    {
     "data": {
      "text/plain": [
       "'Physicians Formula Organic Wear Lash Boosting Mascara is the 1st Ever 100% Natural Lash Boosting formula enhances the appearance of \\nlash length, thickness and volume for dramatic lashes instantly and \\nlong-term.Additional Features:100% of the Total Ingredients are from Natural Origin.  44% of the Total Ingredients are from Organic Farming.  100% saw enhanced lashes INSTANLY!Delivers ingredients to the base of lashes for  best results!93% saw thicker & longer looking lashes instantly!  92% saw \\nextended & fuller looking lashes after 4 weeks!  *Based on \\nindividual perception of results of a panel of women wearing Organic \\nWear Lash Boosting Mascara.Directions for Use: Sweep mascara brush from lash base to tips. Apply multiple coats for \\nadded volume. Can easily be washed off with soap and water or removed \\nwith Physicians Formula Eye Makeup Remover Pads or Lotions.Ingredients: Citrus Aurantium Dulcis (Orange) Fruit Water *, Glycerin, Iron Oxides, \\nMicrocrystalline Cellulose, Glyceryl Stearate SE, Water, Lactobacillus \\nBulgaricus Ferment Filtrate, Beeswax *, Jojoba Esters, Copernicia \\nCerifera (Carnauba) Wax *, Tapioca Starch *, Stearic Acid, Glyceryl \\nCaprylate, Aloe Barbadensis Leaf Juice *, Cellulose Gum, Cucumis Sativus\\n (Cucumber) Fruit Extract *, Glycine Soja (Soybean) Oil *, Hydrolyzed \\nOryza Sativa (Rice) Protein, Magnesium Aluminum Silicate, Olea Europaea \\n(Olive) Leaf Extract *, Saccharomyces/Copper Ferment, Saccharomyces/Iron\\n Ferment, Saccharomyces/Magnesium Ferment, Saccharomyces/Silicon \\nFerment, Saccharomyces/Zinc Ferment, Leuconostoc/Aloe Barbadensis \\nLeaf/Sorbus Aucuparia Fruit Ferment Filtrate, Leuconostoc/Radish Root \\nFerment Filtrate, Populus Tremuloides Bark Extract, Citric Acid  May \\nContain: Titanium DioxideHypoallergenic. Fragrance free. Ophthalmologist approved.  Gluten Free.'"
      ]
     },
     "execution_count": 8,
     "metadata": {},
     "output_type": "execute_result"
    }
   ],
   "source": [
    "text_df['description'][3]"
   ]
  },
  {
   "cell_type": "code",
   "execution_count": 9,
   "id": "0cb95157",
   "metadata": {},
   "outputs": [
    {
     "name": "stderr",
     "output_type": "stream",
     "text": [
      "C:\\Users\\sushi\\AppData\\Local\\Temp/ipykernel_4196/4056036317.py:1: SettingWithCopyWarning: \n",
      "A value is trying to be set on a copy of a slice from a DataFrame.\n",
      "Try using .loc[row_indexer,col_indexer] = value instead\n",
      "\n",
      "See the caveats in the documentation: https://pandas.pydata.org/pandas-docs/stable/user_guide/indexing.html#returning-a-view-versus-a-copy\n",
      "  text_df['description'] = text_df['description'].astype(str)\n"
     ]
    }
   ],
   "source": [
    "text_df['description'] = text_df['description'].astype(str)"
   ]
  },
  {
   "cell_type": "code",
   "execution_count": 10,
   "id": "7a87154a",
   "metadata": {},
   "outputs": [
    {
     "name": "stdout",
     "output_type": "stream",
     "text": [
      "94809\n"
     ]
    }
   ],
   "source": [
    "print(text_df['description'].apply(lambda x: len(x.split(' '))).sum())"
   ]
  },
  {
   "cell_type": "code",
   "execution_count": 11,
   "id": "383c7ab7",
   "metadata": {},
   "outputs": [
    {
     "name": "stderr",
     "output_type": "stream",
     "text": [
      "C:\\Users\\sushi\\anaconda3\\lib\\site-packages\\pandas\\util\\_decorators.py:311: SettingWithCopyWarning: \n",
      "A value is trying to be set on a copy of a slice from a DataFrame\n",
      "\n",
      "See the caveats in the documentation: https://pandas.pydata.org/pandas-docs/stable/user_guide/indexing.html#returning-a-view-versus-a-copy\n",
      "  return func(*args, **kwargs)\n"
     ]
    }
   ],
   "source": [
    "text_df.dropna(subset=['description'], inplace=True)"
   ]
  },
  {
   "cell_type": "code",
   "execution_count": 12,
   "id": "5adb9dbc",
   "metadata": {},
   "outputs": [
    {
     "data": {
      "text/plain": [
       "product_type    0\n",
       "description     0\n",
       "dtype: int64"
      ]
     },
     "execution_count": 12,
     "metadata": {},
     "output_type": "execute_result"
    }
   ],
   "source": [
    "text_df.isnull().sum()"
   ]
  },
  {
   "cell_type": "code",
   "execution_count": 13,
   "id": "704e1b18",
   "metadata": {},
   "outputs": [
    {
     "name": "stderr",
     "output_type": "stream",
     "text": [
      "C:\\Users\\sushi\\AppData\\Local\\Temp/ipykernel_4196/67013513.py:1: SettingWithCopyWarning: \n",
      "A value is trying to be set on a copy of a slice from a DataFrame.\n",
      "Try using .loc[row_indexer,col_indexer] = value instead\n",
      "\n",
      "See the caveats in the documentation: https://pandas.pydata.org/pandas-docs/stable/user_guide/indexing.html#returning-a-view-versus-a-copy\n",
      "  text_df['length'] = text_df['description'].apply(len)\n"
     ]
    },
    {
     "data": {
      "text/html": [
       "<div>\n",
       "<style scoped>\n",
       "    .dataframe tbody tr th:only-of-type {\n",
       "        vertical-align: middle;\n",
       "    }\n",
       "\n",
       "    .dataframe tbody tr th {\n",
       "        vertical-align: top;\n",
       "    }\n",
       "\n",
       "    .dataframe thead th {\n",
       "        text-align: right;\n",
       "    }\n",
       "</style>\n",
       "<table border=\"1\" class=\"dataframe\">\n",
       "  <thead>\n",
       "    <tr style=\"text-align: right;\">\n",
       "      <th></th>\n",
       "      <th>product_type</th>\n",
       "      <th>description</th>\n",
       "      <th>length</th>\n",
       "    </tr>\n",
       "    <tr>\n",
       "      <th>id</th>\n",
       "      <th></th>\n",
       "      <th></th>\n",
       "      <th></th>\n",
       "    </tr>\n",
       "  </thead>\n",
       "  <tbody>\n",
       "    <tr>\n",
       "      <th>1048</th>\n",
       "      <td>lip_liner</td>\n",
       "      <td>Lippie Pencil A long-wearing and high-intensit...</td>\n",
       "      <td>232</td>\n",
       "    </tr>\n",
       "    <tr>\n",
       "      <th>1047</th>\n",
       "      <td>lipstick</td>\n",
       "      <td>Blotted Lip Sheer matte lipstick that creates ...</td>\n",
       "      <td>146</td>\n",
       "    </tr>\n",
       "    <tr>\n",
       "      <th>1046</th>\n",
       "      <td>lipstick</td>\n",
       "      <td>Lippie Stix Formula contains Vitamin E, Mango,...</td>\n",
       "      <td>188</td>\n",
       "    </tr>\n",
       "    <tr>\n",
       "      <th>1045</th>\n",
       "      <td>foundation</td>\n",
       "      <td>Developed for the Selfie Age, our buildable fu...</td>\n",
       "      <td>492</td>\n",
       "    </tr>\n",
       "    <tr>\n",
       "      <th>1044</th>\n",
       "      <td>lipstick</td>\n",
       "      <td>All of our products are free from lead and hea...</td>\n",
       "      <td>357</td>\n",
       "    </tr>\n",
       "  </tbody>\n",
       "</table>\n",
       "</div>"
      ],
      "text/plain": [
       "     product_type                                        description  length\n",
       "id                                                                          \n",
       "1048    lip_liner  Lippie Pencil A long-wearing and high-intensit...     232\n",
       "1047     lipstick  Blotted Lip Sheer matte lipstick that creates ...     146\n",
       "1046     lipstick  Lippie Stix Formula contains Vitamin E, Mango,...     188\n",
       "1045   foundation  Developed for the Selfie Age, our buildable fu...     492\n",
       "1044     lipstick  All of our products are free from lead and hea...     357"
      ]
     },
     "execution_count": 13,
     "metadata": {},
     "output_type": "execute_result"
    }
   ],
   "source": [
    "text_df['length'] = text_df['description'].apply(len)\n",
    "text_df.head()"
   ]
  },
  {
   "cell_type": "code",
   "execution_count": 14,
   "id": "f071aa30",
   "metadata": {},
   "outputs": [
    {
     "data": {
      "text/plain": [
       "array(['lip_liner', 'lipstick', 'foundation', 'eyeliner', 'eyeshadow',\n",
       "       'blush', 'bronzer', 'mascara', 'eyebrow', 'nail_polish'],\n",
       "      dtype=object)"
      ]
     },
     "execution_count": 14,
     "metadata": {},
     "output_type": "execute_result"
    }
   ],
   "source": [
    "text_df.product_type.unique()"
   ]
  },
  {
   "cell_type": "code",
   "execution_count": 15,
   "id": "173251f2",
   "metadata": {},
   "outputs": [],
   "source": [
    "##Grouping data to a smaller number of categories:\n",
    "#We have 10 unique products and some of them we can group to one category. We can link 'eyeliner', 'eyeshadow', 'mascara', 'eyebrow' to one group called as 'eye_makeup'. We can apply the same to 'blush' and 'bronzer' as 'contour' and 'lipstick' with 'lip_liner' to 'lipstick'."
   ]
  },
  {
   "cell_type": "code",
   "execution_count": 16,
   "id": "1922ae93",
   "metadata": {},
   "outputs": [
    {
     "data": {
      "text/plain": [
       "foundation     166\n",
       "lipstick       154\n",
       "eyeliner       148\n",
       "mascara         92\n",
       "eyeshadow       86\n",
       "blush           78\n",
       "bronzer         69\n",
       "nail_polish     60\n",
       "eyebrow         49\n",
       "lip_liner       29\n",
       "Name: product_type, dtype: int64"
      ]
     },
     "execution_count": 16,
     "metadata": {},
     "output_type": "execute_result"
    }
   ],
   "source": [
    "text_df.product_type.value_counts()"
   ]
  },
  {
   "cell_type": "code",
   "execution_count": 17,
   "id": "d509a44d",
   "metadata": {},
   "outputs": [
    {
     "name": "stderr",
     "output_type": "stream",
     "text": [
      "C:\\Users\\sushi\\anaconda3\\lib\\site-packages\\pandas\\core\\indexing.py:1817: SettingWithCopyWarning: \n",
      "A value is trying to be set on a copy of a slice from a DataFrame.\n",
      "Try using .loc[row_indexer,col_indexer] = value instead\n",
      "\n",
      "See the caveats in the documentation: https://pandas.pydata.org/pandas-docs/stable/user_guide/indexing.html#returning-a-view-versus-a-copy\n",
      "  self._setitem_single_column(loc, value, pi)\n"
     ]
    }
   ],
   "source": [
    "text_df.loc[text_df['product_type'].isin(['lipstick','lip_liner']),'product_type'] = 'lipstick'\n",
    "text_df.loc[text_df['product_type'].isin(['blush','bronzer']),'product_type'] = 'contour'\n",
    "text_df.loc[text_df['product_type'].isin(['eyeliner','eyeshadow','mascara','eyebrow']),'product_type'] = 'eye_makeup'"
   ]
  },
  {
   "cell_type": "code",
   "execution_count": 18,
   "id": "fe4fe163",
   "metadata": {},
   "outputs": [
    {
     "data": {
      "text/plain": [
       "eye_makeup     375\n",
       "lipstick       183\n",
       "foundation     166\n",
       "contour        147\n",
       "nail_polish     60\n",
       "Name: product_type, dtype: int64"
      ]
     },
     "execution_count": 18,
     "metadata": {},
     "output_type": "execute_result"
    }
   ],
   "source": [
    "text_df.product_type.value_counts()"
   ]
  },
  {
   "cell_type": "code",
   "execution_count": 19,
   "id": "d870a1e1",
   "metadata": {},
   "outputs": [
    {
     "data": {
      "image/png": "[encoded data removed]",
      "text/plain": [
       "<Figure size 432x288 with 1 Axes>"
      ]
     },
     "metadata": {
      "needs_background": "light"
     },
     "output_type": "display_data"
    }
   ],
   "source": [
    "sns.countplot(x='product_type',data=text_df)\n",
    "plt.xlabel('Type of product')\n",
    "plt.title('Number of products in each group');"
   ]
  },
  {
   "cell_type": "code",
   "execution_count": 20,
   "id": "00e38e3a",
   "metadata": {},
   "outputs": [
    {
     "data": {
      "image/png": "[encoded data removed]",
      "text/plain": [
       "<Figure size 576x360 with 1 Axes>"
      ]
     },
     "metadata": {
      "needs_background": "light"
     },
     "output_type": "display_data"
    }
   ],
   "source": [
    "plt.figure(figsize=(8, 5))\n",
    "text_df[text_df.product_type == 'eye_makeup'].length.plot(bins=35, kind='hist', color='green', label='eye_makeup', alpha=0.6)\n",
    "text_df[text_df.product_type == 'lipstick'].length.plot(kind='hist', color='blue', label='lipstick', alpha=0.6)\n",
    "text_df[text_df.product_type == 'foundation'].length.plot(kind='hist', color='red', label='foundation', alpha=0.6)\n",
    "text_df[text_df.product_type == 'contour'].length.plot(kind='hist', color='yellow', label='contour', alpha=0.6)\n",
    "text_df[text_df.product_type == 'nail_polish'].length.plot(kind='hist', color='pink', label='nail_polish', alpha=0.6)\n",
    "plt.legend()\n",
    "plt.xlabel(\"Length description\");"
   ]
  },
  {
   "cell_type": "code",
   "execution_count": 21,
   "id": "74692577",
   "metadata": {},
   "outputs": [
    {
     "data": {
      "image/png": "[encoded data removed]",
      "text/plain": [
       "<Figure size 864x864 with 6 Axes>"
      ]
     },
     "metadata": {
      "needs_background": "light"
     },
     "output_type": "display_data"
    }
   ],
   "source": [
    "text_df.hist(column='length', by='product_type', bins=50,figsize=(12,12));"
   ]
  },
  {
   "cell_type": "markdown",
   "id": "7917e172",
   "metadata": {},
   "source": [
    "# Text Pre-processing\n",
    "In this step we have to remove punctuation, stop words, bad characters and so on. The second step is aimed to convertion all of the words to lower case and then stemmed them using the Porter Stemmer in the NLTK package.\n",
    "\n",
    "Stemming operation bundles together words of same root. E.g. stem operation bundles “fishing”, and “fished” into a common \"fish\".\n",
    "\n",
    "The functions to clean text, remove stop words and apply stemming operation for each line of text:"
   ]
  },
  {
   "cell_type": "code",
   "execution_count": 22,
   "id": "326b126f",
   "metadata": {},
   "outputs": [
    {
     "name": "stdout",
     "output_type": "stream",
     "text": [
      "['i', \"you've\", 'himself', 'they', 'that', 'been', 'a', 'while', 'through', 'in', 'here', 'few', 'own', 'just', 're', 'doesn', 'ma', \"shouldn't\"]\n"
     ]
    }
   ],
   "source": [
    "stop = stopwords.words('english')\n",
    "print(stop[::10])\n",
    "\n",
    "porter = PorterStemmer()"
   ]
  },
  {
   "cell_type": "code",
   "execution_count": 23,
   "id": "9109e813",
   "metadata": {},
   "outputs": [],
   "source": [
    "def remove_punctuation(description):\n",
    "    \"\"\"The function to remove punctuation\"\"\"\n",
    "    table = str.maketrans('', '', string.punctuation)\n",
    "    return description.translate(table)\n",
    "\n",
    "def remove_stopwords(text):\n",
    "    \"\"\"The function to removing stopwords\"\"\"\n",
    "    text = [word.lower() for word in text.split() if word.lower() not in stop]\n",
    "    return \" \".join(text)\n",
    "\n",
    "def stemmer(stem_text):\n",
    "    \"\"\"The function to apply stemming\"\"\"\n",
    "    stem_text = [porter.stem(word) for word in stem_text.split()]\n",
    "    return \" \".join(stem_text)"
   ]
  },
  {
   "cell_type": "code",
   "execution_count": 24,
   "id": "9502188f",
   "metadata": {},
   "outputs": [
    {
     "name": "stderr",
     "output_type": "stream",
     "text": [
      "C:\\Users\\sushi\\AppData\\Local\\Temp/ipykernel_4196/2218496831.py:1: SettingWithCopyWarning: \n",
      "A value is trying to be set on a copy of a slice from a DataFrame.\n",
      "Try using .loc[row_indexer,col_indexer] = value instead\n",
      "\n",
      "See the caveats in the documentation: https://pandas.pydata.org/pandas-docs/stable/user_guide/indexing.html#returning-a-view-versus-a-copy\n",
      "  text_df['description'] = text_df['description'].apply(remove_punctuation)\n",
      "C:\\Users\\sushi\\AppData\\Local\\Temp/ipykernel_4196/2218496831.py:2: SettingWithCopyWarning: \n",
      "A value is trying to be set on a copy of a slice from a DataFrame.\n",
      "Try using .loc[row_indexer,col_indexer] = value instead\n",
      "\n",
      "See the caveats in the documentation: https://pandas.pydata.org/pandas-docs/stable/user_guide/indexing.html#returning-a-view-versus-a-copy\n",
      "  text_df['description'] = text_df['description'].apply(remove_stopwords)\n",
      "C:\\Users\\sushi\\AppData\\Local\\Temp/ipykernel_4196/2218496831.py:3: SettingWithCopyWarning: \n",
      "A value is trying to be set on a copy of a slice from a DataFrame.\n",
      "Try using .loc[row_indexer,col_indexer] = value instead\n",
      "\n",
      "See the caveats in the documentation: https://pandas.pydata.org/pandas-docs/stable/user_guide/indexing.html#returning-a-view-versus-a-copy\n",
      "  text_df['description'] = text_df['description'].apply(stemmer)\n"
     ]
    }
   ],
   "source": [
    "text_df['description'] = text_df['description'].apply(remove_punctuation)\n",
    "text_df['description'] = text_df['description'].apply(remove_stopwords)\n",
    "text_df['description'] = text_df['description'].apply(stemmer)"
   ]
  },
  {
   "cell_type": "code",
   "execution_count": 25,
   "id": "235527b5",
   "metadata": {},
   "outputs": [
    {
     "data": {
      "text/html": [
       "<div>\n",
       "<style scoped>\n",
       "    .dataframe tbody tr th:only-of-type {\n",
       "        vertical-align: middle;\n",
       "    }\n",
       "\n",
       "    .dataframe tbody tr th {\n",
       "        vertical-align: top;\n",
       "    }\n",
       "\n",
       "    .dataframe thead th {\n",
       "        text-align: right;\n",
       "    }\n",
       "</style>\n",
       "<table border=\"1\" class=\"dataframe\">\n",
       "  <thead>\n",
       "    <tr style=\"text-align: right;\">\n",
       "      <th></th>\n",
       "      <th>product_type</th>\n",
       "      <th>description</th>\n",
       "      <th>length</th>\n",
       "    </tr>\n",
       "    <tr>\n",
       "      <th>id</th>\n",
       "      <th></th>\n",
       "      <th></th>\n",
       "      <th></th>\n",
       "    </tr>\n",
       "  </thead>\n",
       "  <tbody>\n",
       "    <tr>\n",
       "      <th>1048</th>\n",
       "      <td>lipstick</td>\n",
       "      <td>lippi pencil longwear highintens lip pencil gl...</td>\n",
       "      <td>232</td>\n",
       "    </tr>\n",
       "    <tr>\n",
       "      <th>1047</th>\n",
       "      <td>lipstick</td>\n",
       "      <td>blot lip sheer matt lipstick creat perfect pop...</td>\n",
       "      <td>146</td>\n",
       "    </tr>\n",
       "    <tr>\n",
       "      <th>1046</th>\n",
       "      <td>lipstick</td>\n",
       "      <td>lippi stix formula contain vitamin e mango avo...</td>\n",
       "      <td>188</td>\n",
       "    </tr>\n",
       "    <tr>\n",
       "      <th>1045</th>\n",
       "      <td>foundation</td>\n",
       "      <td>develop selfi age buildabl full coverag natur ...</td>\n",
       "      <td>492</td>\n",
       "    </tr>\n",
       "    <tr>\n",
       "      <th>1044</th>\n",
       "      <td>lipstick</td>\n",
       "      <td>product free lead heavi metal paraben phthalat...</td>\n",
       "      <td>357</td>\n",
       "    </tr>\n",
       "  </tbody>\n",
       "</table>\n",
       "</div>"
      ],
      "text/plain": [
       "     product_type                                        description  length\n",
       "id                                                                          \n",
       "1048     lipstick  lippi pencil longwear highintens lip pencil gl...     232\n",
       "1047     lipstick  blot lip sheer matt lipstick creat perfect pop...     146\n",
       "1046     lipstick  lippi stix formula contain vitamin e mango avo...     188\n",
       "1045   foundation  develop selfi age buildabl full coverag natur ...     492\n",
       "1044     lipstick  product free lead heavi metal paraben phthalat...     357"
      ]
     },
     "execution_count": 25,
     "metadata": {},
     "output_type": "execute_result"
    }
   ],
   "source": [
    "text_df.head()"
   ]
  },
  {
   "cell_type": "code",
   "execution_count": 26,
   "id": "5b4b68cb",
   "metadata": {},
   "outputs": [
    {
     "data": {
      "text/plain": [
       "'final natur mascara feel good put lash natur parabenfre glutenfre mercuryfre amaz well mascara build volum length lash natur mascara you’v wait foringredi aqua water oryza sativa wax rice bran wax olea europea fruit oil oliv oil veget sourc cetyl alcohol coconut coernica cerifera carnauba wax euphorbia cerifera candelilla wax veget glycerin stearic acid acacia gum black iron oxid ci 77499 aminomethyl popandiol ph adjust phenoxyethanol preserv'"
      ]
     },
     "execution_count": 26,
     "metadata": {},
     "output_type": "execute_result"
    }
   ],
   "source": [
    "text_df['description'][1]"
   ]
  },
  {
   "cell_type": "markdown",
   "id": "6f326e73",
   "metadata": {},
   "source": [
    "# Pos Tagging\n",
    "To get the deeper insight to the way in which that word is used in speech, the Part of speech (POS) tagging method has been used. There are eight primary parts of speech and they each have a corresponding tag. The NLTK libary has a method to perform POS tagging.\n",
    "\n",
    "The example of Pos Tagging on analyzed data set is presented below:"
   ]
  },
  {
   "cell_type": "code",
   "execution_count": 28,
   "id": "0562e3a3",
   "metadata": {},
   "outputs": [
    {
     "ename": "KeyError",
     "evalue": "0",
     "output_type": "error",
     "traceback": [
      "\u001b[1;31m---------------------------------------------------------------------------\u001b[0m",
      "\u001b[1;31mKeyError\u001b[0m                                  Traceback (most recent call last)",
      "\u001b[1;32m~\\anaconda3\\lib\\site-packages\\pandas\\core\\indexes\\base.py\u001b[0m in \u001b[0;36mget_loc\u001b[1;34m(self, key, method, tolerance)\u001b[0m\n\u001b[0;32m   3360\u001b[0m             \u001b[1;32mtry\u001b[0m\u001b[1;33m:\u001b[0m\u001b[1;33m\u001b[0m\u001b[1;33m\u001b[0m\u001b[0m\n\u001b[1;32m-> 3361\u001b[1;33m                 \u001b[1;32mreturn\u001b[0m \u001b[0mself\u001b[0m\u001b[1;33m.\u001b[0m\u001b[0m_engine\u001b[0m\u001b[1;33m.\u001b[0m\u001b[0mget_loc\u001b[0m\u001b[1;33m(\u001b[0m\u001b[0mcasted_key\u001b[0m\u001b[1;33m)\u001b[0m\u001b[1;33m\u001b[0m\u001b[1;33m\u001b[0m\u001b[0m\n\u001b[0m\u001b[0;32m   3362\u001b[0m             \u001b[1;32mexcept\u001b[0m \u001b[0mKeyError\u001b[0m \u001b[1;32mas\u001b[0m \u001b[0merr\u001b[0m\u001b[1;33m:\u001b[0m\u001b[1;33m\u001b[0m\u001b[1;33m\u001b[0m\u001b[0m\n",
      "\u001b[1;32m~\\anaconda3\\lib\\site-packages\\pandas\\_libs\\index.pyx\u001b[0m in \u001b[0;36mpandas._libs.index.IndexEngine.get_loc\u001b[1;34m()\u001b[0m\n",
      "\u001b[1;32m~\\anaconda3\\lib\\site-packages\\pandas\\_libs\\index.pyx\u001b[0m in \u001b[0;36mpandas._libs.index.IndexEngine.get_loc\u001b[1;34m()\u001b[0m\n",
      "\u001b[1;32mpandas\\_libs\\hashtable_class_helper.pxi\u001b[0m in \u001b[0;36mpandas._libs.hashtable.Int64HashTable.get_item\u001b[1;34m()\u001b[0m\n",
      "\u001b[1;32mpandas\\_libs\\hashtable_class_helper.pxi\u001b[0m in \u001b[0;36mpandas._libs.hashtable.Int64HashTable.get_item\u001b[1;34m()\u001b[0m\n",
      "\u001b[1;31mKeyError\u001b[0m: 0",
      "\nThe above exception was the direct cause of the following exception:\n",
      "\u001b[1;31mKeyError\u001b[0m                                  Traceback (most recent call last)",
      "\u001b[1;32m~\\AppData\\Local\\Temp/ipykernel_4196/1699931266.py\u001b[0m in \u001b[0;36m<module>\u001b[1;34m\u001b[0m\n\u001b[1;32m----> 1\u001b[1;33m \u001b[0mtokens\u001b[0m \u001b[1;33m=\u001b[0m \u001b[0mtext_df\u001b[0m\u001b[1;33m[\u001b[0m\u001b[1;34m'description'\u001b[0m\u001b[1;33m]\u001b[0m\u001b[1;33m[\u001b[0m\u001b[1;36m0\u001b[0m\u001b[1;33m]\u001b[0m\u001b[1;33m\u001b[0m\u001b[1;33m\u001b[0m\u001b[0m\n\u001b[0m\u001b[0;32m      2\u001b[0m \u001b[1;33m\u001b[0m\u001b[0m\n\u001b[0;32m      3\u001b[0m \u001b[0mnltk\u001b[0m\u001b[1;33m.\u001b[0m\u001b[0mpos_tag\u001b[0m\u001b[1;33m(\u001b[0m\u001b[0mword_tokenize\u001b[0m\u001b[1;33m(\u001b[0m\u001b[0mtokens\u001b[0m\u001b[1;33m)\u001b[0m\u001b[1;33m)\u001b[0m\u001b[1;33m\u001b[0m\u001b[1;33m\u001b[0m\u001b[0m\n",
      "\u001b[1;32m~\\anaconda3\\lib\\site-packages\\pandas\\core\\series.py\u001b[0m in \u001b[0;36m__getitem__\u001b[1;34m(self, key)\u001b[0m\n\u001b[0;32m    940\u001b[0m \u001b[1;33m\u001b[0m\u001b[0m\n\u001b[0;32m    941\u001b[0m         \u001b[1;32melif\u001b[0m \u001b[0mkey_is_scalar\u001b[0m\u001b[1;33m:\u001b[0m\u001b[1;33m\u001b[0m\u001b[1;33m\u001b[0m\u001b[0m\n\u001b[1;32m--> 942\u001b[1;33m             \u001b[1;32mreturn\u001b[0m \u001b[0mself\u001b[0m\u001b[1;33m.\u001b[0m\u001b[0m_get_value\u001b[0m\u001b[1;33m(\u001b[0m\u001b[0mkey\u001b[0m\u001b[1;33m)\u001b[0m\u001b[1;33m\u001b[0m\u001b[1;33m\u001b[0m\u001b[0m\n\u001b[0m\u001b[0;32m    943\u001b[0m \u001b[1;33m\u001b[0m\u001b[0m\n\u001b[0;32m    944\u001b[0m         \u001b[1;32mif\u001b[0m \u001b[0mis_hashable\u001b[0m\u001b[1;33m(\u001b[0m\u001b[0mkey\u001b[0m\u001b[1;33m)\u001b[0m\u001b[1;33m:\u001b[0m\u001b[1;33m\u001b[0m\u001b[1;33m\u001b[0m\u001b[0m\n",
      "\u001b[1;32m~\\anaconda3\\lib\\site-packages\\pandas\\core\\series.py\u001b[0m in \u001b[0;36m_get_value\u001b[1;34m(self, label, takeable)\u001b[0m\n\u001b[0;32m   1049\u001b[0m \u001b[1;33m\u001b[0m\u001b[0m\n\u001b[0;32m   1050\u001b[0m         \u001b[1;31m# Similar to Index.get_value, but we do not fall back to positional\u001b[0m\u001b[1;33m\u001b[0m\u001b[1;33m\u001b[0m\u001b[0m\n\u001b[1;32m-> 1051\u001b[1;33m         \u001b[0mloc\u001b[0m \u001b[1;33m=\u001b[0m \u001b[0mself\u001b[0m\u001b[1;33m.\u001b[0m\u001b[0mindex\u001b[0m\u001b[1;33m.\u001b[0m\u001b[0mget_loc\u001b[0m\u001b[1;33m(\u001b[0m\u001b[0mlabel\u001b[0m\u001b[1;33m)\u001b[0m\u001b[1;33m\u001b[0m\u001b[1;33m\u001b[0m\u001b[0m\n\u001b[0m\u001b[0;32m   1052\u001b[0m         \u001b[1;32mreturn\u001b[0m \u001b[0mself\u001b[0m\u001b[1;33m.\u001b[0m\u001b[0mindex\u001b[0m\u001b[1;33m.\u001b[0m\u001b[0m_get_values_for_loc\u001b[0m\u001b[1;33m(\u001b[0m\u001b[0mself\u001b[0m\u001b[1;33m,\u001b[0m \u001b[0mloc\u001b[0m\u001b[1;33m,\u001b[0m \u001b[0mlabel\u001b[0m\u001b[1;33m)\u001b[0m\u001b[1;33m\u001b[0m\u001b[1;33m\u001b[0m\u001b[0m\n\u001b[0;32m   1053\u001b[0m \u001b[1;33m\u001b[0m\u001b[0m\n",
      "\u001b[1;32m~\\anaconda3\\lib\\site-packages\\pandas\\core\\indexes\\base.py\u001b[0m in \u001b[0;36mget_loc\u001b[1;34m(self, key, method, tolerance)\u001b[0m\n\u001b[0;32m   3361\u001b[0m                 \u001b[1;32mreturn\u001b[0m \u001b[0mself\u001b[0m\u001b[1;33m.\u001b[0m\u001b[0m_engine\u001b[0m\u001b[1;33m.\u001b[0m\u001b[0mget_loc\u001b[0m\u001b[1;33m(\u001b[0m\u001b[0mcasted_key\u001b[0m\u001b[1;33m)\u001b[0m\u001b[1;33m\u001b[0m\u001b[1;33m\u001b[0m\u001b[0m\n\u001b[0;32m   3362\u001b[0m             \u001b[1;32mexcept\u001b[0m \u001b[0mKeyError\u001b[0m \u001b[1;32mas\u001b[0m \u001b[0merr\u001b[0m\u001b[1;33m:\u001b[0m\u001b[1;33m\u001b[0m\u001b[1;33m\u001b[0m\u001b[0m\n\u001b[1;32m-> 3363\u001b[1;33m                 \u001b[1;32mraise\u001b[0m \u001b[0mKeyError\u001b[0m\u001b[1;33m(\u001b[0m\u001b[0mkey\u001b[0m\u001b[1;33m)\u001b[0m \u001b[1;32mfrom\u001b[0m \u001b[0merr\u001b[0m\u001b[1;33m\u001b[0m\u001b[1;33m\u001b[0m\u001b[0m\n\u001b[0m\u001b[0;32m   3364\u001b[0m \u001b[1;33m\u001b[0m\u001b[0m\n\u001b[0;32m   3365\u001b[0m         \u001b[1;32mif\u001b[0m \u001b[0mis_scalar\u001b[0m\u001b[1;33m(\u001b[0m\u001b[0mkey\u001b[0m\u001b[1;33m)\u001b[0m \u001b[1;32mand\u001b[0m \u001b[0misna\u001b[0m\u001b[1;33m(\u001b[0m\u001b[0mkey\u001b[0m\u001b[1;33m)\u001b[0m \u001b[1;32mand\u001b[0m \u001b[1;32mnot\u001b[0m \u001b[0mself\u001b[0m\u001b[1;33m.\u001b[0m\u001b[0mhasnans\u001b[0m\u001b[1;33m:\u001b[0m\u001b[1;33m\u001b[0m\u001b[1;33m\u001b[0m\u001b[0m\n",
      "\u001b[1;31mKeyError\u001b[0m: 0"
     ]
    }
   ],
   "source": [
    "tokens = text_df['description'][0]\n",
    "\n",
    "nltk.pos_tag(word_tokenize(tokens))"
   ]
  },
  {
   "cell_type": "markdown",
   "id": "f1452983",
   "metadata": {},
   "source": [
    "# Bag of words\n",
    "To run machine learning algorithms we need to convert the text files into numerical feature vectors. We will use bag of words model for our analysis. In general we segment each text file into words and count of times each word occurs in each document and finally assign each word an integer id. Each unique word in our dictionary will correspond to a feature (descriptive feature).\n",
    "\n",
    "More precisely we will convert our text documents to a matrix of token counts (CountVectorizer), then transform a count matrix to a normalized tf-idf representation (tf-idf transformer)."
   ]
  },
  {
   "cell_type": "markdown",
   "id": "f8c33cd0",
   "metadata": {},
   "source": [
    "# CountVectorizer\n"
   ]
  },
  {
   "cell_type": "code",
   "execution_count": 30,
   "id": "86c11422",
   "metadata": {},
   "outputs": [],
   "source": [
    "\n",
    "vectorizer = CountVectorizer()\n",
    "vectorizer.fit(text_df['description'])\n",
    "vector = vectorizer.transform(text_df['description'])"
   ]
  },
  {
   "cell_type": "code",
   "execution_count": 31,
   "id": "da314116",
   "metadata": {},
   "outputs": [
    {
     "name": "stdout",
     "output_type": "stream",
     "text": [
      "(931, 5892)\n",
      "[[0 0 0 ... 0 0 0]\n",
      " [0 0 0 ... 0 0 0]\n",
      " [0 0 0 ... 0 0 0]\n",
      " ...\n",
      " [0 0 0 ... 0 0 0]\n",
      " [0 0 0 ... 0 0 0]\n",
      " [0 0 0 ... 0 0 0]]\n"
     ]
    }
   ],
   "source": [
    "print(vector.shape)\n",
    "print(vector.toarray())"
   ]
  },
  {
   "cell_type": "markdown",
   "id": "ae772dff",
   "metadata": {},
   "source": [
    "# TF-IDF\n",
    "Term Frequency–Inverse Document Frequency"
   ]
  },
  {
   "cell_type": "code",
   "execution_count": 32,
   "id": "bc1fcafa",
   "metadata": {},
   "outputs": [
    {
     "data": {
      "text/plain": [
       "array([[0., 0., 0., ..., 0., 0., 0.],\n",
       "       [0., 0., 0., ..., 0., 0., 0.],\n",
       "       [0., 0., 0., ..., 0., 0., 0.],\n",
       "       ...,\n",
       "       [0., 0., 0., ..., 0., 0., 0.],\n",
       "       [0., 0., 0., ..., 0., 0., 0.],\n",
       "       [0., 0., 0., ..., 0., 0., 0.]])"
      ]
     },
     "execution_count": 32,
     "metadata": {},
     "output_type": "execute_result"
    }
   ],
   "source": [
    "# extract the tfid representation matrix of the text data\n",
    "tfidf_converter = TfidfTransformer()\n",
    "X_tfidf = tfidf_converter.fit_transform(vector).toarray()\n",
    "X_tfidf"
   ]
  },
  {
   "cell_type": "code",
   "execution_count": 33,
   "id": "6e00187c",
   "metadata": {},
   "outputs": [],
   "source": [
    "#Spliting the data into train and test sets:\n",
    "\n",
    "X = text_df['description']\n",
    "y = text_df['product_type']\n",
    "\n",
    "X_train, X_test, y_train, y_test = train_test_split(X, y, test_size=0.25, random_state = 0)"
   ]
  },
  {
   "cell_type": "code",
   "execution_count": 34,
   "id": "64238b9c",
   "metadata": {},
   "outputs": [
    {
     "data": {
      "text/plain": [
       "((698,), (233,), (698,), (233,))"
      ]
     },
     "execution_count": 34,
     "metadata": {},
     "output_type": "execute_result"
    }
   ],
   "source": [
    "X_train.shape, X_test.shape, y_train.shape, y_test.shape"
   ]
  },
  {
   "cell_type": "code",
   "execution_count": 35,
   "id": "be4416aa",
   "metadata": {},
   "outputs": [
    {
     "data": {
      "text/plain": [
       "id\n",
       "220     tri covergirl intensifi liquid liner get contr...\n",
       "52      volum lengthen defin like pro covergirl profes...\n",
       "1009    essenti lip gloss shade enrich blend natur org...\n",
       "722     diorif reveal nail liner design decor nail lik...\n",
       "694     born backstag expertis inspir profession techn...\n",
       "                              ...                        \n",
       "99      dr hauschka lipstick leav lip feel soft silki ...\n",
       "855     wrap lip highimpact metal color liquid sued me...\n",
       "334     mani women don’t need foundat everywher onebas...\n",
       "413     anna sui lip colour stain includ tint ingredi ...\n",
       "279     dare wear 24hr shadowmaybellin color tattoo cr...\n",
       "Name: description, Length: 698, dtype: object"
      ]
     },
     "execution_count": 35,
     "metadata": {},
     "output_type": "execute_result"
    }
   ],
   "source": [
    "X_train"
   ]
  },
  {
   "cell_type": "code",
   "execution_count": 36,
   "id": "f2a04a7a",
   "metadata": {},
   "outputs": [
    {
     "data": {
      "text/plain": [
       "id\n",
       "220      eye_makeup\n",
       "52       eye_makeup\n",
       "1009       lipstick\n",
       "722     nail_polish\n",
       "694      eye_makeup\n",
       "           ...     \n",
       "99         lipstick\n",
       "855        lipstick\n",
       "334      foundation\n",
       "413        lipstick\n",
       "279      eye_makeup\n",
       "Name: product_type, Length: 698, dtype: object"
      ]
     },
     "execution_count": 36,
     "metadata": {},
     "output_type": "execute_result"
    }
   ],
   "source": [
    "y_train"
   ]
  },
  {
   "cell_type": "markdown",
   "id": "d4107a93",
   "metadata": {},
   "source": [
    "# Logistic Regression\n",
    "We build and train Logistic Regression model:"
   ]
  },
  {
   "cell_type": "code",
   "execution_count": 37,
   "id": "a413b5b9",
   "metadata": {},
   "outputs": [],
   "source": [
    "model_log = Pipeline([('vect', CountVectorizer(min_df=5, ngram_range=(1,2))),\n",
    "                      ('tfidf', TfidfTransformer()),\n",
    "                      ('model',LogisticRegression()),\n",
    "                     ])\n",
    "\n",
    "model_log.fit(X_train, y_train)\n",
    "\n",
    "ytest = np.array(y_test)\n",
    "pred = model_log.predict(X_test)"
   ]
  },
  {
   "cell_type": "code",
   "execution_count": 38,
   "id": "53021026",
   "metadata": {},
   "outputs": [
    {
     "data": {
      "text/plain": [
       "array(['contour', 'contour', 'eye_makeup', 'eye_makeup', 'contour',\n",
       "       'nail_polish', 'contour', 'eye_makeup', 'lipstick', 'contour',\n",
       "       'contour', 'eye_makeup', 'nail_polish', 'contour', 'foundation',\n",
       "       'foundation', 'eye_makeup', 'lipstick', 'eye_makeup', 'lipstick',\n",
       "       'foundation', 'eye_makeup', 'eye_makeup', 'contour', 'lipstick',\n",
       "       'eye_makeup', 'foundation', 'foundation', 'eye_makeup',\n",
       "       'eye_makeup', 'foundation', 'foundation', 'eye_makeup',\n",
       "       'eye_makeup', 'lipstick', 'eye_makeup', 'foundation', 'eye_makeup',\n",
       "       'eye_makeup', 'eye_makeup', 'eye_makeup', 'lipstick', 'eye_makeup',\n",
       "       'eye_makeup', 'eye_makeup', 'foundation', 'contour', 'contour',\n",
       "       'foundation', 'lipstick', 'nail_polish', 'eye_makeup', 'lipstick',\n",
       "       'eye_makeup', 'eye_makeup', 'contour', 'nail_polish',\n",
       "       'nail_polish', 'eye_makeup', 'eye_makeup', 'foundation',\n",
       "       'eye_makeup', 'foundation', 'contour', 'foundation', 'eye_makeup',\n",
       "       'eye_makeup', 'foundation', 'eye_makeup', 'eye_makeup',\n",
       "       'nail_polish', 'eye_makeup', 'eye_makeup', 'contour', 'eye_makeup',\n",
       "       'eye_makeup', 'eye_makeup', 'foundation', 'lipstick', 'eye_makeup',\n",
       "       'foundation', 'eye_makeup', 'eye_makeup', 'foundation', 'lipstick',\n",
       "       'eye_makeup', 'contour', 'contour', 'contour', 'contour',\n",
       "       'lipstick', 'eye_makeup', 'eye_makeup', 'foundation', 'eye_makeup',\n",
       "       'eye_makeup', 'eye_makeup', 'eye_makeup', 'contour', 'eye_makeup',\n",
       "       'eye_makeup', 'eye_makeup', 'nail_polish', 'contour', 'contour',\n",
       "       'eye_makeup', 'eye_makeup', 'eye_makeup', 'eye_makeup',\n",
       "       'foundation', 'foundation', 'lipstick', 'eye_makeup', 'lipstick',\n",
       "       'eye_makeup', 'lipstick', 'lipstick', 'contour', 'contour',\n",
       "       'lipstick', 'eye_makeup', 'eye_makeup', 'eye_makeup', 'foundation',\n",
       "       'eye_makeup', 'eye_makeup', 'eye_makeup', 'eye_makeup', 'contour',\n",
       "       'contour', 'eye_makeup', 'lipstick', 'lipstick', 'eye_makeup',\n",
       "       'lipstick', 'eye_makeup', 'contour', 'foundation', 'eye_makeup',\n",
       "       'foundation', 'nail_polish', 'foundation', 'eye_makeup',\n",
       "       'lipstick', 'foundation', 'nail_polish', 'eye_makeup',\n",
       "       'foundation', 'contour', 'eye_makeup', 'eye_makeup', 'foundation',\n",
       "       'nail_polish', 'foundation', 'lipstick', 'eye_makeup', 'lipstick',\n",
       "       'nail_polish', 'lipstick', 'eye_makeup', 'eye_makeup',\n",
       "       'eye_makeup', 'eye_makeup', 'lipstick', 'eye_makeup', 'eye_makeup',\n",
       "       'nail_polish', 'lipstick', 'lipstick', 'eye_makeup', 'eye_makeup',\n",
       "       'lipstick', 'lipstick', 'lipstick', 'eye_makeup', 'eye_makeup',\n",
       "       'foundation', 'lipstick', 'contour', 'eye_makeup', 'eye_makeup',\n",
       "       'eye_makeup', 'lipstick', 'lipstick', 'eye_makeup', 'eye_makeup',\n",
       "       'eye_makeup', 'contour', 'eye_makeup', 'lipstick', 'eye_makeup',\n",
       "       'eye_makeup', 'contour', 'eye_makeup', 'lipstick', 'foundation',\n",
       "       'lipstick', 'lipstick', 'eye_makeup', 'eye_makeup', 'foundation',\n",
       "       'eye_makeup', 'eye_makeup', 'eye_makeup', 'foundation',\n",
       "       'foundation', 'eye_makeup', 'contour', 'foundation', 'lipstick',\n",
       "       'nail_polish', 'lipstick', 'eye_makeup', 'contour', 'lipstick',\n",
       "       'lipstick', 'foundation', 'foundation', 'contour', 'eye_makeup',\n",
       "       'nail_polish', 'contour', 'eye_makeup', 'foundation', 'lipstick',\n",
       "       'eye_makeup', 'contour', 'contour', 'eye_makeup', 'eye_makeup',\n",
       "       'eye_makeup', 'eye_makeup', 'foundation'], dtype=object)"
      ]
     },
     "execution_count": 38,
     "metadata": {},
     "output_type": "execute_result"
    }
   ],
   "source": [
    "pred"
   ]
  },
  {
   "cell_type": "code",
   "execution_count": 39,
   "id": "0ce3fbf8",
   "metadata": {},
   "outputs": [
    {
     "data": {
      "text/plain": [
       "id\n",
       "639                              “kick cheeks” blush kit\n",
       "483    dr hauschka transluc bronz tint ideal use alon...\n",
       "53     volum lengthen defin like pro covergirl profes...\n",
       "21     100 natur botan base formula glide effortlessl...\n",
       "502    make good thing better make bigger overs versi...\n",
       "                             ...                        \n",
       "875                                                  nan\n",
       "137    transform mani uniqu transform effect top coat...\n",
       "532    photo shoot crew can’t wait around makeup arti...\n",
       "811    smear fade creas stay wash versatil creami for...\n",
       "781    instant pickmeup skin sheer oilfre gel creat w...\n",
       "Name: description, Length: 233, dtype: object"
      ]
     },
     "execution_count": 39,
     "metadata": {},
     "output_type": "execute_result"
    }
   ],
   "source": [
    "X_test"
   ]
  },
  {
   "cell_type": "code",
   "execution_count": 40,
   "id": "011c5e9b",
   "metadata": {},
   "outputs": [
    {
     "name": "stdout",
     "output_type": "stream",
     "text": [
      "accuracy 0.9055793991416309\n",
      "              precision    recall  f1-score   support\n",
      "\n",
      "     contour       1.00      0.88      0.93        40\n",
      "  eye_makeup       0.85      0.98      0.91        91\n",
      "  foundation       0.84      0.80      0.82        40\n",
      "    lipstick       1.00      0.91      0.95        45\n",
      " nail_polish       1.00      0.82      0.90        17\n",
      "\n",
      "    accuracy                           0.91       233\n",
      "   macro avg       0.94      0.88      0.90       233\n",
      "weighted avg       0.91      0.91      0.91       233\n",
      "\n"
     ]
    }
   ],
   "source": [
    "#The confusion matrix and classification report(precision, recall, F1-score):\n",
    "\n",
    "print('accuracy %s' % accuracy_score(pred, y_test))\n",
    "print(classification_report(ytest, pred))"
   ]
  },
  {
   "cell_type": "markdown",
   "id": "55196a2e",
   "metadata": {},
   "source": [
    "# SVM"
   ]
  },
  {
   "cell_type": "code",
   "execution_count": 41,
   "id": "342c7880",
   "metadata": {},
   "outputs": [],
   "source": [
    "svc = Pipeline([('vect', CountVectorizer(min_df=5, ngram_range=(1,2))),\n",
    "               ('tfidf', TfidfTransformer()),\n",
    "               ('model',LinearSVC()),\n",
    "               ])\n",
    "\n",
    "svc.fit(X_train, y_train)\n",
    "\n",
    "ytest = np.array(y_test)\n",
    "y_pred = svc.predict(X_test)"
   ]
  },
  {
   "cell_type": "code",
   "execution_count": 42,
   "id": "2ef86493",
   "metadata": {},
   "outputs": [
    {
     "data": {
      "text/plain": [
       "array(['contour', 'contour', 'eye_makeup', 'eye_makeup', 'contour',\n",
       "       'nail_polish', 'contour', 'eye_makeup', 'lipstick', 'contour',\n",
       "       'contour', 'eye_makeup', 'nail_polish', 'contour', 'foundation',\n",
       "       'foundation', 'eye_makeup', 'lipstick', 'eye_makeup', 'lipstick',\n",
       "       'foundation', 'lipstick', 'eye_makeup', 'contour', 'lipstick',\n",
       "       'eye_makeup', 'foundation', 'foundation', 'eye_makeup',\n",
       "       'eye_makeup', 'foundation', 'foundation', 'eye_makeup',\n",
       "       'eye_makeup', 'lipstick', 'eye_makeup', 'foundation', 'eye_makeup',\n",
       "       'contour', 'eye_makeup', 'eye_makeup', 'lipstick', 'eye_makeup',\n",
       "       'eye_makeup', 'eye_makeup', 'foundation', 'contour', 'contour',\n",
       "       'foundation', 'lipstick', 'nail_polish', 'eye_makeup', 'lipstick',\n",
       "       'eye_makeup', 'eye_makeup', 'contour', 'nail_polish',\n",
       "       'nail_polish', 'eye_makeup', 'eye_makeup', 'foundation',\n",
       "       'eye_makeup', 'foundation', 'contour', 'foundation', 'eye_makeup',\n",
       "       'eye_makeup', 'contour', 'eye_makeup', 'eye_makeup', 'nail_polish',\n",
       "       'eye_makeup', 'eye_makeup', 'contour', 'eye_makeup', 'eye_makeup',\n",
       "       'eye_makeup', 'foundation', 'lipstick', 'eye_makeup', 'foundation',\n",
       "       'eye_makeup', 'eye_makeup', 'foundation', 'lipstick', 'eye_makeup',\n",
       "       'contour', 'contour', 'contour', 'contour', 'lipstick',\n",
       "       'eye_makeup', 'eye_makeup', 'foundation', 'eye_makeup',\n",
       "       'eye_makeup', 'eye_makeup', 'eye_makeup', 'contour', 'eye_makeup',\n",
       "       'eye_makeup', 'eye_makeup', 'nail_polish', 'contour', 'contour',\n",
       "       'eye_makeup', 'nail_polish', 'eye_makeup', 'eye_makeup',\n",
       "       'foundation', 'foundation', 'lipstick', 'eye_makeup', 'lipstick',\n",
       "       'eye_makeup', 'lipstick', 'lipstick', 'contour', 'contour',\n",
       "       'lipstick', 'eye_makeup', 'eye_makeup', 'eye_makeup', 'foundation',\n",
       "       'eye_makeup', 'eye_makeup', 'eye_makeup', 'eye_makeup', 'contour',\n",
       "       'contour', 'eye_makeup', 'lipstick', 'lipstick', 'eye_makeup',\n",
       "       'lipstick', 'eye_makeup', 'contour', 'foundation', 'eye_makeup',\n",
       "       'foundation', 'nail_polish', 'foundation', 'eye_makeup',\n",
       "       'lipstick', 'foundation', 'nail_polish', 'eye_makeup',\n",
       "       'foundation', 'contour', 'eye_makeup', 'eye_makeup', 'foundation',\n",
       "       'nail_polish', 'foundation', 'lipstick', 'eye_makeup', 'lipstick',\n",
       "       'nail_polish', 'lipstick', 'eye_makeup', 'eye_makeup',\n",
       "       'eye_makeup', 'eye_makeup', 'lipstick', 'eye_makeup', 'eye_makeup',\n",
       "       'nail_polish', 'lipstick', 'lipstick', 'foundation', 'eye_makeup',\n",
       "       'lipstick', 'lipstick', 'lipstick', 'eye_makeup', 'eye_makeup',\n",
       "       'foundation', 'lipstick', 'contour', 'eye_makeup', 'eye_makeup',\n",
       "       'eye_makeup', 'lipstick', 'lipstick', 'eye_makeup', 'nail_polish',\n",
       "       'eye_makeup', 'contour', 'eye_makeup', 'lipstick', 'eye_makeup',\n",
       "       'eye_makeup', 'contour', 'eye_makeup', 'lipstick', 'foundation',\n",
       "       'lipstick', 'lipstick', 'eye_makeup', 'foundation', 'foundation',\n",
       "       'eye_makeup', 'eye_makeup', 'eye_makeup', 'foundation',\n",
       "       'foundation', 'eye_makeup', 'contour', 'foundation', 'lipstick',\n",
       "       'nail_polish', 'lipstick', 'eye_makeup', 'contour', 'lipstick',\n",
       "       'lipstick', 'foundation', 'foundation', 'contour', 'eye_makeup',\n",
       "       'nail_polish', 'contour', 'eye_makeup', 'foundation', 'lipstick',\n",
       "       'eye_makeup', 'contour', 'contour', 'eye_makeup', 'nail_polish',\n",
       "       'eye_makeup', 'eye_makeup', 'foundation'], dtype=object)"
      ]
     },
     "execution_count": 42,
     "metadata": {},
     "output_type": "execute_result"
    }
   ],
   "source": [
    "y_pred"
   ]
  },
  {
   "cell_type": "code",
   "execution_count": 45,
   "id": "ecef4ed7",
   "metadata": {},
   "outputs": [
    {
     "data": {
      "text/plain": [
       "id\n",
       "639                              “kick cheeks” blush kit\n",
       "483    dr hauschka transluc bronz tint ideal use alon...\n",
       "53     volum lengthen defin like pro covergirl profes...\n",
       "21     100 natur botan base formula glide effortlessl...\n",
       "502    make good thing better make bigger overs versi...\n",
       "                             ...                        \n",
       "875                                                  nan\n",
       "137    transform mani uniqu transform effect top coat...\n",
       "532    photo shoot crew can’t wait around makeup arti...\n",
       "811    smear fade creas stay wash versatil creami for...\n",
       "781    instant pickmeup skin sheer oilfre gel creat w...\n",
       "Name: description, Length: 233, dtype: object"
      ]
     },
     "execution_count": 45,
     "metadata": {},
     "output_type": "execute_result"
    }
   ],
   "source": [
    "X_test"
   ]
  },
  {
   "cell_type": "code",
   "execution_count": 46,
   "id": "c1f64921",
   "metadata": {},
   "outputs": [
    {
     "name": "stdout",
     "output_type": "stream",
     "text": [
      "accuracy 0.927038626609442\n",
      "              precision    recall  f1-score   support\n",
      "\n",
      "     contour       1.00      0.93      0.96        40\n",
      "  eye_makeup       0.90      0.97      0.93        91\n",
      "  foundation       0.85      0.82      0.84        40\n",
      "    lipstick       0.98      0.91      0.94        45\n",
      " nail_polish       1.00      1.00      1.00        17\n",
      "\n",
      "    accuracy                           0.93       233\n",
      "   macro avg       0.94      0.93      0.93       233\n",
      "weighted avg       0.93      0.93      0.93       233\n",
      "\n"
     ]
    }
   ],
   "source": [
    "print('accuracy %s' % accuracy_score(y_pred, y_test))\n",
    "print(classification_report(ytest, y_pred))"
   ]
  },
  {
   "cell_type": "code",
   "execution_count": null,
   "id": "edd0e29f",
   "metadata": {},
   "outputs": [],
   "source": []
  }
 ],
 "metadata": {
  "kernelspec": {
   "display_name": "Python 3 (ipykernel)",
   "language": "python",
   "name": "python3"
  },
  "language_info": {
   "codemirror_mode": {
    "name": "ipython",
    "version": 3
   },
   "file_extension": ".py",
   "mimetype": "text/x-python",
   "name": "python",
   "nbconvert_exporter": "python",
   "pygments_lexer": "ipython3",
   "version": "3.9.7"
  }
 },
 "nbformat": 4,
 "nbformat_minor": 5
}
