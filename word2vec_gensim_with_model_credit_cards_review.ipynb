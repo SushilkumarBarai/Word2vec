{
 "cells": [
  {
   "cell_type": "code",
   "execution_count": 1,
   "id": "560257d0",
   "metadata": {},
   "outputs": [],
   "source": [
    "import gensim\n",
    "import pandas as pd"
   ]
  },
  {
   "cell_type": "code",
   "execution_count": 2,
   "id": "09790c57",
   "metadata": {},
   "outputs": [
    {
     "data": {
      "text/html": [
       "<div>\n",
       "<style scoped>\n",
       "    .dataframe tbody tr th:only-of-type {\n",
       "        vertical-align: middle;\n",
       "    }\n",
       "\n",
       "    .dataframe tbody tr th {\n",
       "        vertical-align: top;\n",
       "    }\n",
       "\n",
       "    .dataframe thead th {\n",
       "        text-align: right;\n",
       "    }\n",
       "</style>\n",
       "<table border=\"1\" class=\"dataframe\">\n",
       "  <thead>\n",
       "    <tr style=\"text-align: right;\">\n",
       "      <th></th>\n",
       "      <th>reviewerID</th>\n",
       "      <th>asin</th>\n",
       "      <th>reviewerName</th>\n",
       "      <th>helpful</th>\n",
       "      <th>reviewText</th>\n",
       "      <th>overall</th>\n",
       "      <th>summary</th>\n",
       "      <th>unixReviewTime</th>\n",
       "      <th>reviewTime</th>\n",
       "    </tr>\n",
       "  </thead>\n",
       "  <tbody>\n",
       "    <tr>\n",
       "      <th>0</th>\n",
       "      <td>A14ADQK7QZ9MX0</td>\n",
       "      <td>B007SNZJC6</td>\n",
       "      <td>DJ Doc \"Run To You\"</td>\n",
       "      <td>[15, 18]</td>\n",
       "      <td>Must open a $5 account before application can ...</td>\n",
       "      <td>3</td>\n",
       "      <td>Terms change Oct 1 of each year.</td>\n",
       "      <td>1349308800</td>\n",
       "      <td>10 4, 2012</td>\n",
       "    </tr>\n",
       "    <tr>\n",
       "      <th>1</th>\n",
       "      <td>A14P97TCJBGRYS</td>\n",
       "      <td>B007SNZJC6</td>\n",
       "      <td>Jon</td>\n",
       "      <td>[7, 7]</td>\n",
       "      <td>The card is probably one of the best rewards c...</td>\n",
       "      <td>5</td>\n",
       "      <td>Great, but hard to get</td>\n",
       "      <td>1360108800</td>\n",
       "      <td>02 6, 2013</td>\n",
       "    </tr>\n",
       "    <tr>\n",
       "      <th>2</th>\n",
       "      <td>A2L3SKTQRXEZZ9</td>\n",
       "      <td>B007SNZJC6</td>\n",
       "      <td>Peddler</td>\n",
       "      <td>[6, 11]</td>\n",
       "      <td>Shame, they scam you into \"donating\" to a char...</td>\n",
       "      <td>1</td>\n",
       "      <td>Should be negitave stars - Jump through all th...</td>\n",
       "      <td>1358467200</td>\n",
       "      <td>01 18, 2013</td>\n",
       "    </tr>\n",
       "    <tr>\n",
       "      <th>3</th>\n",
       "      <td>A13KXTMSS25JZ1</td>\n",
       "      <td>B007SNZJC6</td>\n",
       "      <td>Wowzerz</td>\n",
       "      <td>[3, 10]</td>\n",
       "      <td>First of all I'd like to say I was very please...</td>\n",
       "      <td>4</td>\n",
       "      <td>Great</td>\n",
       "      <td>1346716800</td>\n",
       "      <td>09 4, 2012</td>\n",
       "    </tr>\n",
       "    <tr>\n",
       "      <th>4</th>\n",
       "      <td>A2G16YB18DW4KP</td>\n",
       "      <td>B007SP148M</td>\n",
       "      <td>Abhinit Kumar</td>\n",
       "      <td>[44, 49]</td>\n",
       "      <td>I agree with the other reviewer that getting t...</td>\n",
       "      <td>1</td>\n",
       "      <td>1* for incorrect advertisement</td>\n",
       "      <td>1338854400</td>\n",
       "      <td>06 5, 2012</td>\n",
       "    </tr>\n",
       "    <tr>\n",
       "      <th>...</th>\n",
       "      <td>...</td>\n",
       "      <td>...</td>\n",
       "      <td>...</td>\n",
       "      <td>...</td>\n",
       "      <td>...</td>\n",
       "      <td>...</td>\n",
       "      <td>...</td>\n",
       "      <td>...</td>\n",
       "      <td>...</td>\n",
       "    </tr>\n",
       "    <tr>\n",
       "      <th>9359</th>\n",
       "      <td>A1YUNWA1S24TLO</td>\n",
       "      <td>B00AWJ1SXC</td>\n",
       "      <td>Alexis Williams</td>\n",
       "      <td>[3, 4]</td>\n",
       "      <td>Positives: 0% APR for first 6 mo, at least 1% ...</td>\n",
       "      <td>5</td>\n",
       "      <td>Best option for a credit-less collegiate, IMHO</td>\n",
       "      <td>1402617600</td>\n",
       "      <td>06 13, 2014</td>\n",
       "    </tr>\n",
       "    <tr>\n",
       "      <th>9360</th>\n",
       "      <td>A2JWNGX5QOQE77</td>\n",
       "      <td>B00AWJ1SXC</td>\n",
       "      <td>A.Poopoo</td>\n",
       "      <td>[29, 42]</td>\n",
       "      <td>Applied for the card because of the 50 dollar ...</td>\n",
       "      <td>1</td>\n",
       "      <td>Discover sets its own terms when it wants</td>\n",
       "      <td>1388966400</td>\n",
       "      <td>01 6, 2014</td>\n",
       "    </tr>\n",
       "    <tr>\n",
       "      <th>9361</th>\n",
       "      <td>A3O2TRYW67Q26H</td>\n",
       "      <td>B00AWJ1SXC</td>\n",
       "      <td>Chris</td>\n",
       "      <td>[13, 15]</td>\n",
       "      <td>I've been with Discover for years now, they ac...</td>\n",
       "      <td>5</td>\n",
       "      <td>Discover is Great</td>\n",
       "      <td>1390867200</td>\n",
       "      <td>01 28, 2014</td>\n",
       "    </tr>\n",
       "    <tr>\n",
       "      <th>9362</th>\n",
       "      <td>A2HC94KQKVGIA1</td>\n",
       "      <td>B00AWJ1SXC</td>\n",
       "      <td>D. Stephens</td>\n",
       "      <td>[2, 3]</td>\n",
       "      <td>I love this card! Great Cash Back, Great Bonus...</td>\n",
       "      <td>5</td>\n",
       "      <td>Great Card</td>\n",
       "      <td>1393632000</td>\n",
       "      <td>03 1, 2014</td>\n",
       "    </tr>\n",
       "    <tr>\n",
       "      <th>9363</th>\n",
       "      <td>A1IFHNPYI6G3MM</td>\n",
       "      <td>B00AWJ1SXC</td>\n",
       "      <td>Julia</td>\n",
       "      <td>[1, 2]</td>\n",
       "      <td>I've had the Discover it card for students for...</td>\n",
       "      <td>5</td>\n",
       "      <td>Best Card for Students: Incredibe Rewards</td>\n",
       "      <td>1405296000</td>\n",
       "      <td>07 14, 2014</td>\n",
       "    </tr>\n",
       "  </tbody>\n",
       "</table>\n",
       "<p>9364 rows × 9 columns</p>\n",
       "</div>"
      ],
      "text/plain": [
       "          reviewerID        asin         reviewerName   helpful  \\\n",
       "0     A14ADQK7QZ9MX0  B007SNZJC6  DJ Doc \"Run To You\"  [15, 18]   \n",
       "1     A14P97TCJBGRYS  B007SNZJC6                  Jon    [7, 7]   \n",
       "2     A2L3SKTQRXEZZ9  B007SNZJC6              Peddler   [6, 11]   \n",
       "3     A13KXTMSS25JZ1  B007SNZJC6              Wowzerz   [3, 10]   \n",
       "4     A2G16YB18DW4KP  B007SP148M        Abhinit Kumar  [44, 49]   \n",
       "...              ...         ...                  ...       ...   \n",
       "9359  A1YUNWA1S24TLO  B00AWJ1SXC      Alexis Williams    [3, 4]   \n",
       "9360  A2JWNGX5QOQE77  B00AWJ1SXC             A.Poopoo  [29, 42]   \n",
       "9361  A3O2TRYW67Q26H  B00AWJ1SXC                Chris  [13, 15]   \n",
       "9362  A2HC94KQKVGIA1  B00AWJ1SXC          D. Stephens    [2, 3]   \n",
       "9363  A1IFHNPYI6G3MM  B00AWJ1SXC                Julia    [1, 2]   \n",
       "\n",
       "                                             reviewText  overall  \\\n",
       "0     Must open a $5 account before application can ...        3   \n",
       "1     The card is probably one of the best rewards c...        5   \n",
       "2     Shame, they scam you into \"donating\" to a char...        1   \n",
       "3     First of all I'd like to say I was very please...        4   \n",
       "4     I agree with the other reviewer that getting t...        1   \n",
       "...                                                 ...      ...   \n",
       "9359  Positives: 0% APR for first 6 mo, at least 1% ...        5   \n",
       "9360  Applied for the card because of the 50 dollar ...        1   \n",
       "9361  I've been with Discover for years now, they ac...        5   \n",
       "9362  I love this card! Great Cash Back, Great Bonus...        5   \n",
       "9363  I've had the Discover it card for students for...        5   \n",
       "\n",
       "                                                summary  unixReviewTime  \\\n",
       "0                      Terms change Oct 1 of each year.      1349308800   \n",
       "1                                Great, but hard to get      1360108800   \n",
       "2     Should be negitave stars - Jump through all th...      1358467200   \n",
       "3                                                 Great      1346716800   \n",
       "4                        1* for incorrect advertisement      1338854400   \n",
       "...                                                 ...             ...   \n",
       "9359     Best option for a credit-less collegiate, IMHO      1402617600   \n",
       "9360          Discover sets its own terms when it wants      1388966400   \n",
       "9361                                  Discover is Great      1390867200   \n",
       "9362                                         Great Card      1393632000   \n",
       "9363          Best Card for Students: Incredibe Rewards      1405296000   \n",
       "\n",
       "       reviewTime  \n",
       "0      10 4, 2012  \n",
       "1      02 6, 2013  \n",
       "2     01 18, 2013  \n",
       "3      09 4, 2012  \n",
       "4      06 5, 2012  \n",
       "...           ...  \n",
       "9359  06 13, 2014  \n",
       "9360   01 6, 2014  \n",
       "9361  01 28, 2014  \n",
       "9362   03 1, 2014  \n",
       "9363  07 14, 2014  \n",
       "\n",
       "[9364 rows x 9 columns]"
      ]
     },
     "execution_count": 2,
     "metadata": {},
     "output_type": "execute_result"
    }
   ],
   "source": [
    "#Link to the Dataset: http://snap.stanford.edu/data/amazon/productGraph/categoryFiles/reviews_Cell_Phones_and_Accessories_5.json.gz\n",
    "\n",
    "df = pd.read_json(\"reviews_All_Credit_Cards.json\", lines=True)\n",
    "df"
   ]
  },
  {
   "cell_type": "code",
   "execution_count": 3,
   "id": "6589f420",
   "metadata": {},
   "outputs": [
    {
     "data": {
      "text/plain": [
       "(9364, 9)"
      ]
     },
     "execution_count": 3,
     "metadata": {},
     "output_type": "execute_result"
    }
   ],
   "source": [
    "df.shape"
   ]
  },
  {
   "cell_type": "code",
   "execution_count": 4,
   "id": "e889750a",
   "metadata": {},
   "outputs": [
    {
     "data": {
      "text/plain": [
       "0       [must, open, account, before, application, can...\n",
       "1       [the, card, is, probably, one, of, the, best, ...\n",
       "2       [shame, they, scam, you, into, donating, to, c...\n",
       "3       [first, of, all, like, to, say, was, very, ple...\n",
       "4       [agree, with, the, other, reviewer, that, gett...\n",
       "                              ...                        \n",
       "9359    [positives, apr, for, first, mo, at, least, ca...\n",
       "9360    [applied, for, the, card, because, of, the, do...\n",
       "9361    [ve, been, with, discover, for, years, now, th...\n",
       "9362    [love, this, card, great, cash, back, great, b...\n",
       "9363    [ve, had, the, discover, it, card, for, studen...\n",
       "Name: reviewText, Length: 9364, dtype: object"
      ]
     },
     "execution_count": 4,
     "metadata": {},
     "output_type": "execute_result"
    }
   ],
   "source": [
    "review_text = df.reviewText.apply(gensim.utils.simple_preprocess)\n",
    "review_text"
   ]
  },
  {
   "cell_type": "code",
   "execution_count": 5,
   "id": "686851ff",
   "metadata": {},
   "outputs": [
    {
     "data": {
      "text/plain": [
       "['must',\n",
       " 'open',\n",
       " 'account',\n",
       " 'before',\n",
       " 'application',\n",
       " 'can',\n",
       " 'be',\n",
       " 'started',\n",
       " 'terms',\n",
       " 'for',\n",
       " 'this',\n",
       " 'card',\n",
       " 'have',\n",
       " 'changed',\n",
       " 'the',\n",
       " 'point',\n",
       " 'bonuses',\n",
       " 'are',\n",
       " 'gone',\n",
       " 'points',\n",
       " 'can',\n",
       " 'no',\n",
       " 'longer',\n",
       " 'be',\n",
       " 'redeemed',\n",
       " 'via',\n",
       " 'visa',\n",
       " 'cash',\n",
       " 'cards',\n",
       " 'check',\n",
       " 'the',\n",
       " 'direct',\n",
       " 'site']"
      ]
     },
     "execution_count": 5,
     "metadata": {},
     "output_type": "execute_result"
    }
   ],
   "source": [
    "review_text.loc[0]"
   ]
  },
  {
   "cell_type": "code",
   "execution_count": 24,
   "id": "3e124684",
   "metadata": {},
   "outputs": [
    {
     "data": {
      "text/plain": [
       "\"I'm being honest, I had my husband sign up for this card just because I wanted the $75 Amazon gift card. When Discover called to confirm the application, we told them over the phone that we went through Amazon and that we were expecting the $75 gift card. Fast delivery on the card and like they said, after our first purchase we received an email with the gift card redemption code. I copied and pasted the code to Amazon and had my $75. I am writing this review because it seems that this card has gotten a lot of bad reviews about the gift card. I received mine with no hassle.\""
      ]
     },
     "execution_count": 24,
     "metadata": {},
     "output_type": "execute_result"
    }
   ],
   "source": [
    "df.reviewText.loc[5]"
   ]
  },
  {
   "cell_type": "code",
   "execution_count": 7,
   "id": "5d2df319",
   "metadata": {},
   "outputs": [],
   "source": [
    "#Training the Word2Vec Model\n",
    "\n",
    "#Train the model for reviews. Use a window of size 10 i.e. 10 words before the present word and 10 words ahead. A sentence with at least 2 words should only be considered, configure this using min_count parameter.\n",
    "\n",
    "#Workers define how many CPU threads to be used."
   ]
  },
  {
   "cell_type": "markdown",
   "id": "9b066a08",
   "metadata": {},
   "source": [
    "# Initialize the model"
   ]
  },
  {
   "cell_type": "code",
   "execution_count": 10,
   "id": "dd420828",
   "metadata": {},
   "outputs": [],
   "source": [
    "model = gensim.models.Word2Vec(\n",
    "    window=10,\n",
    "    min_count=2,\n",
    "    workers=4,\n",
    ")"
   ]
  },
  {
   "cell_type": "markdown",
   "id": "af6a47cc",
   "metadata": {},
   "source": [
    "# Build Vocabulary"
   ]
  },
  {
   "cell_type": "code",
   "execution_count": 11,
   "id": "0a7ff351",
   "metadata": {},
   "outputs": [],
   "source": [
    "model.build_vocab(review_text, progress_per=1000)"
   ]
  },
  {
   "cell_type": "markdown",
   "id": "c1500fab",
   "metadata": {},
   "source": [
    "# Train the Word2Vec Model"
   ]
  },
  {
   "cell_type": "code",
   "execution_count": 12,
   "id": "129bfc50",
   "metadata": {},
   "outputs": [
    {
     "data": {
      "text/plain": [
       "(2312776, 3269250)"
      ]
     },
     "execution_count": 12,
     "metadata": {},
     "output_type": "execute_result"
    }
   ],
   "source": [
    "model.train(review_text, total_examples=model.corpus_count, epochs=model.epochs)"
   ]
  },
  {
   "cell_type": "code",
   "execution_count": 13,
   "id": "a28ced5d",
   "metadata": {},
   "outputs": [
    {
     "data": {
      "text/plain": [
       "9364"
      ]
     },
     "execution_count": 13,
     "metadata": {},
     "output_type": "execute_result"
    }
   ],
   "source": [
    "model.corpus_count"
   ]
  },
  {
   "cell_type": "code",
   "execution_count": 14,
   "id": "7f1c70be",
   "metadata": {},
   "outputs": [
    {
     "data": {
      "text/plain": [
       "5"
      ]
     },
     "execution_count": 14,
     "metadata": {},
     "output_type": "execute_result"
    }
   ],
   "source": [
    "model.epochs"
   ]
  },
  {
   "cell_type": "code",
   "execution_count": 15,
   "id": "59e5a6ef",
   "metadata": {},
   "outputs": [],
   "source": [
    "model.save(\"./review_credit_card.model\")"
   ]
  },
  {
   "cell_type": "code",
   "execution_count": 17,
   "id": "3a8c2b96",
   "metadata": {},
   "outputs": [
    {
     "data": {
      "text/plain": [
       "[('occasions', 0.8098213076591492),\n",
       " ('looked', 0.8072625994682312),\n",
       " ('gotten', 0.8035796284675598),\n",
       " ('disappeared', 0.801670491695404),\n",
       " ('replacement', 0.7899712324142456),\n",
       " ('started', 0.788888156414032),\n",
       " ('moved', 0.7840554118156433),\n",
       " ('mother', 0.7750750780105591),\n",
       " ('exception', 0.7634994983673096),\n",
       " ('discovered', 0.7603538036346436)]"
      ]
     },
     "execution_count": 17,
     "metadata": {},
     "output_type": "execute_result"
    }
   ],
   "source": [
    "model.wv.most_similar(\"gone\")"
   ]
  },
  {
   "cell_type": "code",
   "execution_count": 19,
   "id": "14291c7b",
   "metadata": {},
   "outputs": [
    {
     "data": {
      "text/plain": [
       "0.6455133"
      ]
     },
     "execution_count": 19,
     "metadata": {},
     "output_type": "execute_result"
    }
   ],
   "source": [
    "model.wv.similarity(w1=\"moved\", w2=\"exception\")"
   ]
  },
  {
   "cell_type": "code",
   "execution_count": 20,
   "id": "a6698284",
   "metadata": {},
   "outputs": [],
   "source": [
    "#Load Model"
   ]
  },
  {
   "cell_type": "code",
   "execution_count": 21,
   "id": "eae69d8e",
   "metadata": {},
   "outputs": [],
   "source": [
    "import pickle"
   ]
  },
  {
   "cell_type": "code",
   "execution_count": 23,
   "id": "e23e519f",
   "metadata": {},
   "outputs": [],
   "source": [
    "\n",
    "with open('review_credit_card.model', 'rb') as pickle_file:\n",
    "    content = pickle.load(pickle_file)\n"
   ]
  },
  {
   "cell_type": "code",
   "execution_count": 25,
   "id": "334dac6b",
   "metadata": {},
   "outputs": [
    {
     "ename": "KeyError",
     "evalue": "\"Key 'confirm ' not present\"",
     "output_type": "error",
     "traceback": [
      "\u001b[1;31m---------------------------------------------------------------------------\u001b[0m",
      "\u001b[1;31mKeyError\u001b[0m                                  Traceback (most recent call last)",
      "\u001b[1;32m~\\AppData\\Local\\Temp/ipykernel_11872/2965016911.py\u001b[0m in \u001b[0;36m<module>\u001b[1;34m\u001b[0m\n\u001b[1;32m----> 1\u001b[1;33m \u001b[0mcontent\u001b[0m\u001b[1;33m.\u001b[0m\u001b[0mwv\u001b[0m\u001b[1;33m.\u001b[0m\u001b[0msimilarity\u001b[0m\u001b[1;33m(\u001b[0m\u001b[0mw1\u001b[0m\u001b[1;33m=\u001b[0m\u001b[1;34m\"confirm \"\u001b[0m\u001b[1;33m,\u001b[0m \u001b[0mw2\u001b[0m\u001b[1;33m=\u001b[0m\u001b[1;34m\"ok\"\u001b[0m\u001b[1;33m)\u001b[0m\u001b[1;33m\u001b[0m\u001b[1;33m\u001b[0m\u001b[0m\n\u001b[0m",
      "\u001b[1;32m~\\anaconda3\\lib\\site-packages\\gensim\\models\\keyedvectors.py\u001b[0m in \u001b[0;36msimilarity\u001b[1;34m(self, w1, w2)\u001b[0m\n\u001b[0;32m   1152\u001b[0m \u001b[1;33m\u001b[0m\u001b[0m\n\u001b[0;32m   1153\u001b[0m         \"\"\"\n\u001b[1;32m-> 1154\u001b[1;33m         \u001b[1;32mreturn\u001b[0m \u001b[0mdot\u001b[0m\u001b[1;33m(\u001b[0m\u001b[0mmatutils\u001b[0m\u001b[1;33m.\u001b[0m\u001b[0munitvec\u001b[0m\u001b[1;33m(\u001b[0m\u001b[0mself\u001b[0m\u001b[1;33m[\u001b[0m\u001b[0mw1\u001b[0m\u001b[1;33m]\u001b[0m\u001b[1;33m)\u001b[0m\u001b[1;33m,\u001b[0m \u001b[0mmatutils\u001b[0m\u001b[1;33m.\u001b[0m\u001b[0munitvec\u001b[0m\u001b[1;33m(\u001b[0m\u001b[0mself\u001b[0m\u001b[1;33m[\u001b[0m\u001b[0mw2\u001b[0m\u001b[1;33m]\u001b[0m\u001b[1;33m)\u001b[0m\u001b[1;33m)\u001b[0m\u001b[1;33m\u001b[0m\u001b[1;33m\u001b[0m\u001b[0m\n\u001b[0m\u001b[0;32m   1155\u001b[0m \u001b[1;33m\u001b[0m\u001b[0m\n\u001b[0;32m   1156\u001b[0m     \u001b[1;32mdef\u001b[0m \u001b[0mn_similarity\u001b[0m\u001b[1;33m(\u001b[0m\u001b[0mself\u001b[0m\u001b[1;33m,\u001b[0m \u001b[0mws1\u001b[0m\u001b[1;33m,\u001b[0m \u001b[0mws2\u001b[0m\u001b[1;33m)\u001b[0m\u001b[1;33m:\u001b[0m\u001b[1;33m\u001b[0m\u001b[1;33m\u001b[0m\u001b[0m\n",
      "\u001b[1;32m~\\anaconda3\\lib\\site-packages\\gensim\\models\\keyedvectors.py\u001b[0m in \u001b[0;36m__getitem__\u001b[1;34m(self, key_or_keys)\u001b[0m\n\u001b[0;32m    393\u001b[0m         \"\"\"\n\u001b[0;32m    394\u001b[0m         \u001b[1;32mif\u001b[0m \u001b[0misinstance\u001b[0m\u001b[1;33m(\u001b[0m\u001b[0mkey_or_keys\u001b[0m\u001b[1;33m,\u001b[0m \u001b[0m_KEY_TYPES\u001b[0m\u001b[1;33m)\u001b[0m\u001b[1;33m:\u001b[0m\u001b[1;33m\u001b[0m\u001b[1;33m\u001b[0m\u001b[0m\n\u001b[1;32m--> 395\u001b[1;33m             \u001b[1;32mreturn\u001b[0m \u001b[0mself\u001b[0m\u001b[1;33m.\u001b[0m\u001b[0mget_vector\u001b[0m\u001b[1;33m(\u001b[0m\u001b[0mkey_or_keys\u001b[0m\u001b[1;33m)\u001b[0m\u001b[1;33m\u001b[0m\u001b[1;33m\u001b[0m\u001b[0m\n\u001b[0m\u001b[0;32m    396\u001b[0m \u001b[1;33m\u001b[0m\u001b[0m\n\u001b[0;32m    397\u001b[0m         \u001b[1;32mreturn\u001b[0m \u001b[0mvstack\u001b[0m\u001b[1;33m(\u001b[0m\u001b[1;33m[\u001b[0m\u001b[0mself\u001b[0m\u001b[1;33m.\u001b[0m\u001b[0mget_vector\u001b[0m\u001b[1;33m(\u001b[0m\u001b[0mkey\u001b[0m\u001b[1;33m)\u001b[0m \u001b[1;32mfor\u001b[0m \u001b[0mkey\u001b[0m \u001b[1;32min\u001b[0m \u001b[0mkey_or_keys\u001b[0m\u001b[1;33m]\u001b[0m\u001b[1;33m)\u001b[0m\u001b[1;33m\u001b[0m\u001b[1;33m\u001b[0m\u001b[0m\n",
      "\u001b[1;32m~\\anaconda3\\lib\\site-packages\\gensim\\models\\keyedvectors.py\u001b[0m in \u001b[0;36mget_vector\u001b[1;34m(self, key, norm)\u001b[0m\n\u001b[0;32m    436\u001b[0m \u001b[1;33m\u001b[0m\u001b[0m\n\u001b[0;32m    437\u001b[0m         \"\"\"\n\u001b[1;32m--> 438\u001b[1;33m         \u001b[0mindex\u001b[0m \u001b[1;33m=\u001b[0m \u001b[0mself\u001b[0m\u001b[1;33m.\u001b[0m\u001b[0mget_index\u001b[0m\u001b[1;33m(\u001b[0m\u001b[0mkey\u001b[0m\u001b[1;33m)\u001b[0m\u001b[1;33m\u001b[0m\u001b[1;33m\u001b[0m\u001b[0m\n\u001b[0m\u001b[0;32m    439\u001b[0m         \u001b[1;32mif\u001b[0m \u001b[0mnorm\u001b[0m\u001b[1;33m:\u001b[0m\u001b[1;33m\u001b[0m\u001b[1;33m\u001b[0m\u001b[0m\n\u001b[0;32m    440\u001b[0m             \u001b[0mself\u001b[0m\u001b[1;33m.\u001b[0m\u001b[0mfill_norms\u001b[0m\u001b[1;33m(\u001b[0m\u001b[1;33m)\u001b[0m\u001b[1;33m\u001b[0m\u001b[1;33m\u001b[0m\u001b[0m\n",
      "\u001b[1;32m~\\anaconda3\\lib\\site-packages\\gensim\\models\\keyedvectors.py\u001b[0m in \u001b[0;36mget_index\u001b[1;34m(self, key, default)\u001b[0m\n\u001b[0;32m    410\u001b[0m             \u001b[1;32mreturn\u001b[0m \u001b[0mdefault\u001b[0m\u001b[1;33m\u001b[0m\u001b[1;33m\u001b[0m\u001b[0m\n\u001b[0;32m    411\u001b[0m         \u001b[1;32melse\u001b[0m\u001b[1;33m:\u001b[0m\u001b[1;33m\u001b[0m\u001b[1;33m\u001b[0m\u001b[0m\n\u001b[1;32m--> 412\u001b[1;33m             \u001b[1;32mraise\u001b[0m \u001b[0mKeyError\u001b[0m\u001b[1;33m(\u001b[0m\u001b[1;34mf\"Key '{key}' not present\"\u001b[0m\u001b[1;33m)\u001b[0m\u001b[1;33m\u001b[0m\u001b[1;33m\u001b[0m\u001b[0m\n\u001b[0m\u001b[0;32m    413\u001b[0m \u001b[1;33m\u001b[0m\u001b[0m\n\u001b[0;32m    414\u001b[0m     \u001b[1;32mdef\u001b[0m \u001b[0mget_vector\u001b[0m\u001b[1;33m(\u001b[0m\u001b[0mself\u001b[0m\u001b[1;33m,\u001b[0m \u001b[0mkey\u001b[0m\u001b[1;33m,\u001b[0m \u001b[0mnorm\u001b[0m\u001b[1;33m=\u001b[0m\u001b[1;32mFalse\u001b[0m\u001b[1;33m)\u001b[0m\u001b[1;33m:\u001b[0m\u001b[1;33m\u001b[0m\u001b[1;33m\u001b[0m\u001b[0m\n",
      "\u001b[1;31mKeyError\u001b[0m: \"Key 'confirm ' not present\""
     ]
    }
   ],
   "source": [
    "content.wv.similarity(w1=\"confirm \", w2=\"Discover \")"
   ]
  },
  {
   "cell_type": "code",
   "execution_count": 27,
   "id": "4db0a214",
   "metadata": {},
   "outputs": [
    {
     "data": {
      "text/plain": [
       "[('oem', 0.8277002573013306),\n",
       " ('stock', 0.7101345062255859),\n",
       " ('factory', 0.6562397480010986),\n",
       " ('official', 0.6175636649131775),\n",
       " ('genuine', 0.5534969568252563),\n",
       " ('orginal', 0.5321043133735657),\n",
       " ('oe', 0.5274697542190552),\n",
       " ('orignal', 0.5216991901397705),\n",
       " ('identical', 0.5161818265914917),\n",
       " ('replacement', 0.5157790184020996)]"
      ]
     },
     "execution_count": 27,
     "metadata": {},
     "output_type": "execute_result"
    }
   ],
   "source": [
    "content.wv.most_similar(\"gone\")"
   ]
  },
  {
   "cell_type": "code",
   "execution_count": null,
   "id": "a773f4b3",
   "metadata": {},
   "outputs": [],
   "source": []
  }
 ],
 "metadata": {
  "kernelspec": {
   "display_name": "Python 3 (ipykernel)",
   "language": "python",
   "name": "python3"
  },
  "language_info": {
   "codemirror_mode": {
    "name": "ipython",
    "version": 3
   },
   "file_extension": ".py",
   "mimetype": "text/x-python",
   "name": "python",
   "nbconvert_exporter": "python",
   "pygments_lexer": "ipython3",
   "version": "3.9.7"
  }
 },
 "nbformat": 4,
 "nbformat_minor": 5
}
